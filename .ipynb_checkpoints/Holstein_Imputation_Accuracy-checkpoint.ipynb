{
 "cells": [
  {
   "cell_type": "code",
   "execution_count": 1,
   "metadata": {
    "collapsed": false
   },
   "outputs": [],
   "source": [
    "import pandas as pd\n",
    "import numpy as np\n",
    "from pandas import DataFrame\n",
    "from pandas import Series\n",
    "from numpy import nan\n",
    "import matplotlib.pyplot as plt\n",
    "%matplotlib inline \n",
    "plt.style.use('ggplot')\n",
    "import seaborn as sns\n",
    "\n",
    "\n"
   ]
  },
  {
   "cell_type": "code",
   "execution_count": 6,
   "metadata": {
    "collapsed": false
   },
   "outputs": [
    {
     "name": "stdout",
     "output_type": "stream",
     "text": [
      "/data/jhoff/Imputation/accuracycheck/imputation-pipelines\r\n"
     ]
    }
   ],
   "source": [
    "#!! head test_head_del.csv\n",
    "! pwd"
   ]
  },
  {
   "cell_type": "markdown",
   "metadata": {},
   "source": [
    "#this document displays the steps for calculating accuracy of imputation in the holstein BRD data\n",
    "* there is a bunch of python code to preprocess the data\n",
    "* then i use something called a 'pandas dataframe' which is essentially like R's data frame, to store the genotype matricies for the imputed and sequenced set. \n",
    "* python then calculates a correlation coefficient on an per animal and per base level across the two matricies\n",
    "* Thats the basic overview, lets take a look at what happens. "
   ]
  },
  {
   "cell_type": "code",
   "execution_count": 137,
   "metadata": {
    "collapsed": false
   },
   "outputs": [],
   "source": [
    "chr20 = pd.read_csv('/data/jhoff/Hoff_Holsteins/HO_sequence_Accuracy/umc_ho_sgen_20.csv',nrows=20,usecols=[2] + range(29,67),index_col=0)"
   ]
  },
  {
   "cell_type": "code",
   "execution_count": 138,
   "metadata": {
    "collapsed": false,
    "scrolled": false
   },
   "outputs": [],
   "source": [
    "chr20.columns= chr20.columns.str.lstrip('l_')"
   ]
  },
  {
   "cell_type": "code",
   "execution_count": 147,
   "metadata": {
    "collapsed": false
   },
   "outputs": [
    {
     "data": {
      "text/plain": [
       "4116"
      ]
     },
     "execution_count": 147,
     "metadata": {},
     "output_type": "execute_result"
    }
   ],
   "source": [
    "idsf = open( '/data/jhoff/Hoff_Holsteins/HO_5265_Imputed/HO_5264_IDS','r')\n",
    "idlist = [i.strip() for i in idsf]\n",
    "idtrimlist =  [i[3:-1].lstrip('0') for i in idlist[1147:] if (len(i) ==9) & (i.startswith('20'))]\n",
    "idshorts = [i for i in idlist[1147:] if len(i) !=9]\n",
    "idall = idlist[:1147] + idtrimlist + idshorts\n",
    "ids = pd.DataFrame(idlist,index=idall)\n",
    "ids.head()\n",
    "ids['num'] = np.arange(ids.shape[0])\n",
    "ids.iloc[1146:1156]\n",
    "mu_ids = ids.iloc[1147:]\n",
    "impute_ids =mu_ids.index.tolist()\n",
    "len(impute_ids)"
   ]
  },
  {
   "cell_type": "code",
   "execution_count": 153,
   "metadata": {
    "collapsed": false
   },
   "outputs": [
    {
     "data": {
      "text/html": [
       "<div style=\"max-height:1000px;max-width:1500px;overflow:auto;\">\n",
       "<table border=\"1\" class=\"dataframe\">\n",
       "  <thead>\n",
       "    <tr style=\"text-align: right;\">\n",
       "      <th></th>\n",
       "      <th>0</th>\n",
       "      <th>num</th>\n",
       "    </tr>\n",
       "  </thead>\n",
       "  <tbody>\n",
       "    <tr>\n",
       "      <th>200008890</th>\n",
       "      <td>200008890</td>\n",
       "      <td>0</td>\n",
       "    </tr>\n",
       "    <tr>\n",
       "      <th>200008900</th>\n",
       "      <td>200008900</td>\n",
       "      <td>1</td>\n",
       "    </tr>\n",
       "    <tr>\n",
       "      <th>200008940</th>\n",
       "      <td>200008940</td>\n",
       "      <td>2</td>\n",
       "    </tr>\n",
       "    <tr>\n",
       "      <th>200009100</th>\n",
       "      <td>200009100</td>\n",
       "      <td>3</td>\n",
       "    </tr>\n",
       "    <tr>\n",
       "      <th>200009110</th>\n",
       "      <td>200009110</td>\n",
       "      <td>4</td>\n",
       "    </tr>\n",
       "  </tbody>\n",
       "</table>\n",
       "</div>"
      ],
      "text/plain": [
       "                   0  num\n",
       "200008890  200008890    0\n",
       "200008900  200008900    1\n",
       "200008940  200008940    2\n",
       "200009100  200009100    3\n",
       "200009110  200009110    4"
      ]
     },
     "execution_count": 153,
     "metadata": {},
     "output_type": "execute_result"
    }
   ],
   "source": [
    "idsf = open('/data/jhoff/Hoff_Holsteins/HO_5265_Imputed/HO_imputed_filtered_4116_ids.txt')\n",
    "idlist = idsf.readline().split(',')\n",
    "idtrimlist =  [i[3:-1].lstrip('0') for i in idlist[1147:] if (len(i) ==9) & (i.startswith('20'))]\n",
    "idshorts = [i for i in idlist[1147:] if len(i) !=9]\n",
    "idall = idlist[:1147] + idtrimlist + idshorts\n",
    "ids2 = pd.DataFrame(idlist,index=idall)\n",
    "ids2['num'] = np.arange(ids2.shape[0])\n",
    "impute_ids =ids2.index.tolist()\n",
    "ids2.head()"
   ]
  },
  {
   "cell_type": "markdown",
   "metadata": {},
   "source": [
    "> This id function grabs the static id list and takes the ones formatted like BRD calves and puts them in the df 'ids'\n",
    "* the list \"impute_ids\" labels all columns containing non 1k bulls animals\n",
    "* the list below, sharedids is the subset for grabbing that are the overlapping naimals"
   ]
  },
  {
   "cell_type": "code",
   "execution_count": 149,
   "metadata": {
    "collapsed": false,
    "scrolled": true
   },
   "outputs": [
    {
     "name": "stdout",
     "output_type": "stream",
     "text": [
      "Index([u'78648', u'78757', u'78773', u'78827', u'78836', u'78853', u'79050',\n",
      "       u'79160', u'79488', u'79863', u'79971', u'80134', u'80163', u'80421',\n",
      "       u'80427', u'80609', u'80636', u'82366', u'86883', u'86953', u'86954',\n",
      "       u'86956', u'87024', u'87089', u'87104', u'87174', u'87267', u'87309',\n",
      "       u'87335', u'87398'],\n",
      "      dtype='object')\n"
     ]
    },
    {
     "data": {
      "text/plain": [
       "['78648',\n",
       " '78757',\n",
       " '78773',\n",
       " '78827',\n",
       " '78836',\n",
       " '78853',\n",
       " '79050',\n",
       " '79160',\n",
       " '79488',\n",
       " '79863',\n",
       " '79971',\n",
       " '80134',\n",
       " '80163',\n",
       " '80421',\n",
       " '80427',\n",
       " '80609',\n",
       " '80636',\n",
       " '82366',\n",
       " '86883',\n",
       " '86953',\n",
       " '86954',\n",
       " '86956',\n",
       " '87024',\n",
       " '87089',\n",
       " '87104',\n",
       " '87174',\n",
       " '87267',\n",
       " '87309',\n",
       " '87335',\n",
       " '87398']"
      ]
     },
     "execution_count": 149,
     "metadata": {},
     "output_type": "execute_result"
    }
   ],
   "source": [
    "testanimals = ids.index.intersection(\n",
    "    chr20.columns)\n",
    "print testanimals\n",
    "testing_code = ids.loc[testanimals]\n",
    "shared_ids = testanimals.tolist()\n",
    "shared_ids"
   ]
  },
  {
   "cell_type": "code",
   "execution_count": 144,
   "metadata": {
    "collapsed": false
   },
   "outputs": [
    {
     "data": {
      "text/plain": [
       "[1514, 2671, 2701, 2149, 1409, 2419, 1162, 2120, 1447, 2102]"
      ]
     },
     "execution_count": 144,
     "metadata": {},
     "output_type": "execute_result"
    }
   ],
   "source": [
    "columns_of_tested=testing_code['num'].tolist()\n",
    "columns_of_tested[:10]\n",
    "#this is the potential off by one"
   ]
  },
  {
   "cell_type": "code",
   "execution_count": 145,
   "metadata": {
    "collapsed": false
   },
   "outputs": [
    {
     "name": "stdout",
     "output_type": "stream",
     "text": [
      "['78648', '78757', '78773', '78827', '78836', '78853', '79050', '79160', '79488', '79863']\n",
      "4117\n"
     ]
    },
    {
     "data": {
      "text/plain": [
       "['pos',\n",
       " '78648',\n",
       " '78757',\n",
       " '78773',\n",
       " '78827',\n",
       " '78836',\n",
       " '78853',\n",
       " '79050',\n",
       " '79160',\n",
       " '79488',\n",
       " '79863']"
      ]
     },
     "execution_count": 145,
     "metadata": {},
     "output_type": "execute_result"
    }
   ],
   "source": [
    "print shared_ids[:10]\n",
    "print len(['pos']+impute_ids)\n",
    "['pos'] + shared_ids[:10]"
   ]
  },
  {
   "cell_type": "markdown",
   "metadata": {},
   "source": [
    "#now we have a bunch of id's for common comparison of the two data set\n",
    "* now we read in the files only for the relevant columns and or rows for the shared animals across the two data sets\n",
    "* first in is the imputed data from the fimpute output\n"
   ]
  },
  {
   "cell_type": "code",
   "execution_count": 154,
   "metadata": {
    "collapsed": false
   },
   "outputs": [
    {
     "data": {
      "text/html": [
       "<div style=\"max-height:1000px;max-width:1500px;overflow:auto;\">\n",
       "<table border=\"1\" class=\"dataframe\">\n",
       "  <thead>\n",
       "    <tr style=\"text-align: right;\">\n",
       "      <th></th>\n",
       "      <th>78827</th>\n",
       "      <th>78836</th>\n",
       "      <th>78853</th>\n",
       "      <th>79050</th>\n",
       "      <th>79160</th>\n",
       "      <th>79488</th>\n",
       "      <th>79863</th>\n",
       "      <th>79971</th>\n",
       "      <th>80134</th>\n",
       "      <th>80163</th>\n",
       "      <th>...</th>\n",
       "      <th>86954</th>\n",
       "      <th>86956</th>\n",
       "      <th>87024</th>\n",
       "      <th>87089</th>\n",
       "      <th>87104</th>\n",
       "      <th>87174</th>\n",
       "      <th>87267</th>\n",
       "      <th>87309</th>\n",
       "      <th>87335</th>\n",
       "      <th>87398</th>\n",
       "    </tr>\n",
       "    <tr>\n",
       "      <th>pos</th>\n",
       "      <th></th>\n",
       "      <th></th>\n",
       "      <th></th>\n",
       "      <th></th>\n",
       "      <th></th>\n",
       "      <th></th>\n",
       "      <th></th>\n",
       "      <th></th>\n",
       "      <th></th>\n",
       "      <th></th>\n",
       "      <th></th>\n",
       "      <th></th>\n",
       "      <th></th>\n",
       "      <th></th>\n",
       "      <th></th>\n",
       "      <th></th>\n",
       "      <th></th>\n",
       "      <th></th>\n",
       "      <th></th>\n",
       "      <th></th>\n",
       "      <th></th>\n",
       "    </tr>\n",
       "  </thead>\n",
       "  <tbody>\n",
       "    <tr>\n",
       "      <th>821</th>\n",
       "      <td>0</td>\n",
       "      <td>0</td>\n",
       "      <td>0</td>\n",
       "      <td>1</td>\n",
       "      <td>1</td>\n",
       "      <td>0</td>\n",
       "      <td>0</td>\n",
       "      <td>0</td>\n",
       "      <td>0</td>\n",
       "      <td>1</td>\n",
       "      <td>...</td>\n",
       "      <td>1</td>\n",
       "      <td>0</td>\n",
       "      <td>0</td>\n",
       "      <td>1</td>\n",
       "      <td>0</td>\n",
       "      <td>0</td>\n",
       "      <td>0</td>\n",
       "      <td>0</td>\n",
       "      <td>0</td>\n",
       "      <td>0</td>\n",
       "    </tr>\n",
       "    <tr>\n",
       "      <th>871</th>\n",
       "      <td>0</td>\n",
       "      <td>0</td>\n",
       "      <td>1</td>\n",
       "      <td>2</td>\n",
       "      <td>1</td>\n",
       "      <td>2</td>\n",
       "      <td>0</td>\n",
       "      <td>0</td>\n",
       "      <td>0</td>\n",
       "      <td>1</td>\n",
       "      <td>...</td>\n",
       "      <td>1</td>\n",
       "      <td>2</td>\n",
       "      <td>2</td>\n",
       "      <td>1</td>\n",
       "      <td>2</td>\n",
       "      <td>0</td>\n",
       "      <td>2</td>\n",
       "      <td>2</td>\n",
       "      <td>0</td>\n",
       "      <td>1</td>\n",
       "    </tr>\n",
       "    <tr>\n",
       "      <th>896</th>\n",
       "      <td>0</td>\n",
       "      <td>0</td>\n",
       "      <td>1</td>\n",
       "      <td>2</td>\n",
       "      <td>1</td>\n",
       "      <td>2</td>\n",
       "      <td>0</td>\n",
       "      <td>1</td>\n",
       "      <td>0</td>\n",
       "      <td>1</td>\n",
       "      <td>...</td>\n",
       "      <td>1</td>\n",
       "      <td>2</td>\n",
       "      <td>2</td>\n",
       "      <td>1</td>\n",
       "      <td>2</td>\n",
       "      <td>0</td>\n",
       "      <td>2</td>\n",
       "      <td>2</td>\n",
       "      <td>0</td>\n",
       "      <td>2</td>\n",
       "    </tr>\n",
       "    <tr>\n",
       "      <th>1105</th>\n",
       "      <td>0</td>\n",
       "      <td>0</td>\n",
       "      <td>1</td>\n",
       "      <td>2</td>\n",
       "      <td>1</td>\n",
       "      <td>2</td>\n",
       "      <td>0</td>\n",
       "      <td>1</td>\n",
       "      <td>0</td>\n",
       "      <td>1</td>\n",
       "      <td>...</td>\n",
       "      <td>1</td>\n",
       "      <td>2</td>\n",
       "      <td>0</td>\n",
       "      <td>1</td>\n",
       "      <td>0</td>\n",
       "      <td>0</td>\n",
       "      <td>0</td>\n",
       "      <td>0</td>\n",
       "      <td>0</td>\n",
       "      <td>1</td>\n",
       "    </tr>\n",
       "    <tr>\n",
       "      <th>1172</th>\n",
       "      <td>0</td>\n",
       "      <td>0</td>\n",
       "      <td>1</td>\n",
       "      <td>0</td>\n",
       "      <td>1</td>\n",
       "      <td>1</td>\n",
       "      <td>0</td>\n",
       "      <td>0</td>\n",
       "      <td>0</td>\n",
       "      <td>0</td>\n",
       "      <td>...</td>\n",
       "      <td>0</td>\n",
       "      <td>0</td>\n",
       "      <td>0</td>\n",
       "      <td>0</td>\n",
       "      <td>0</td>\n",
       "      <td>0</td>\n",
       "      <td>0</td>\n",
       "      <td>0</td>\n",
       "      <td>0</td>\n",
       "      <td>0</td>\n",
       "    </tr>\n",
       "  </tbody>\n",
       "</table>\n",
       "<p>5 rows × 27 columns</p>\n",
       "</div>"
      ],
      "text/plain": [
       "      78827  78836  78853  79050  79160  79488  79863  79971  80134  80163  \\\n",
       "pos                                                                          \n",
       "821       0      0      0      1      1      0      0      0      0      1   \n",
       "871       0      0      1      2      1      2      0      0      0      1   \n",
       "896       0      0      1      2      1      2      0      1      0      1   \n",
       "1105      0      0      1      2      1      2      0      1      0      1   \n",
       "1172      0      0      1      0      1      1      0      0      0      0   \n",
       "\n",
       "      ...    86954  86956  87024  87089  87104  87174  87267  87309  87335  \\\n",
       "pos   ...                                                                    \n",
       "821   ...        1      0      0      1      0      0      0      0      0   \n",
       "871   ...        1      2      2      1      2      0      2      2      0   \n",
       "896   ...        1      2      2      1      2      0      2      2      0   \n",
       "1105  ...        1      2      0      1      0      0      0      0      0   \n",
       "1172  ...        0      0      0      0      0      0      0      0      0   \n",
       "\n",
       "      87398  \n",
       "pos          \n",
       "821       0  \n",
       "871       1  \n",
       "896       2  \n",
       "1105      1  \n",
       "1172      0  \n",
       "\n",
       "[5 rows x 27 columns]"
      ]
     },
     "execution_count": 154,
     "metadata": {},
     "output_type": "execute_result"
    }
   ],
   "source": [
    "imputed_dos_chr20 = pd.read_csv('/data/jhoff/Hoff_Holsteins/HO_5265_Imputed/Chr20HO_2step_1kbull.dosage.txt.gz',\n",
    "                                compression= 'gzip',\n",
    "                                header=None,names=['pos']+ impute_ids,\n",
    "                                usecols=['pos']+shared_ids,index_col=0)\n",
    "imputed_dos_chr20.head()\n",
    "#imputed_dos_chr20['79050']\n",
    "#imputed_dos_shared = imputed_dos_chr20[shared_ids]\n",
    "#imputed_dos_chr20.index=idcolumns.iloc[:,0].tolist()"
   ]
  },
  {
   "cell_type": "code",
   "execution_count": 155,
   "metadata": {
    "collapsed": false,
    "scrolled": false
   },
   "outputs": [
    {
     "data": {
      "text/plain": [
       "count    333477.000000\n",
       "mean          0.669336\n",
       "std           0.741725\n",
       "min           0.000000\n",
       "25%           0.000000\n",
       "50%           1.000000\n",
       "75%           1.000000\n",
       "max           2.000000\n",
       "Name: 79050, dtype: float64"
      ]
     },
     "execution_count": 155,
     "metadata": {},
     "output_type": "execute_result"
    }
   ],
   "source": [
    "imputed_dos_chr20['79050'].describe()"
   ]
  },
  {
   "cell_type": "markdown",
   "metadata": {},
   "source": [
    "summary stats on the mean genotype of one animal in the imputed set"
   ]
  },
  {
   "cell_type": "code",
   "execution_count": 27,
   "metadata": {
    "collapsed": false
   },
   "outputs": [
    {
     "data": {
      "text/html": [
       "<div style=\"max-height:1000px;max-width:1500px;overflow:auto;\">\n",
       "<table border=\"1\" class=\"dataframe\">\n",
       "  <thead>\n",
       "    <tr style=\"text-align: right;\">\n",
       "      <th></th>\n",
       "      <th>986</th>\n",
       "      <th>1051</th>\n",
       "      <th>1510</th>\n",
       "      <th>2081</th>\n",
       "      <th>18490</th>\n",
       "      <th>23048</th>\n",
       "      <th>23200</th>\n",
       "      <th>47325</th>\n",
       "      <th>78648</th>\n",
       "      <th>78757</th>\n",
       "      <th>...</th>\n",
       "      <th>86954</th>\n",
       "      <th>86956</th>\n",
       "      <th>87024</th>\n",
       "      <th>87089</th>\n",
       "      <th>87104</th>\n",
       "      <th>87174</th>\n",
       "      <th>87267</th>\n",
       "      <th>87309</th>\n",
       "      <th>87335</th>\n",
       "      <th>87398</th>\n",
       "    </tr>\n",
       "    <tr>\n",
       "      <th>chr_pos</th>\n",
       "      <th></th>\n",
       "      <th></th>\n",
       "      <th></th>\n",
       "      <th></th>\n",
       "      <th></th>\n",
       "      <th></th>\n",
       "      <th></th>\n",
       "      <th></th>\n",
       "      <th></th>\n",
       "      <th></th>\n",
       "      <th></th>\n",
       "      <th></th>\n",
       "      <th></th>\n",
       "      <th></th>\n",
       "      <th></th>\n",
       "      <th></th>\n",
       "      <th></th>\n",
       "      <th></th>\n",
       "      <th></th>\n",
       "      <th></th>\n",
       "      <th></th>\n",
       "    </tr>\n",
       "  </thead>\n",
       "  <tbody>\n",
       "    <tr>\n",
       "      <th>821</th>\n",
       "      <td>0</td>\n",
       "      <td>1</td>\n",
       "      <td>0</td>\n",
       "      <td>0</td>\n",
       "      <td>2</td>\n",
       "      <td>1</td>\n",
       "      <td>0</td>\n",
       "      <td>1</td>\n",
       "      <td>0</td>\n",
       "      <td>1</td>\n",
       "      <td>...</td>\n",
       "      <td>0</td>\n",
       "      <td>1</td>\n",
       "      <td>1</td>\n",
       "      <td>1</td>\n",
       "      <td>0</td>\n",
       "      <td>1</td>\n",
       "      <td>1</td>\n",
       "      <td>0</td>\n",
       "      <td>0</td>\n",
       "      <td>0</td>\n",
       "    </tr>\n",
       "    <tr>\n",
       "      <th>871</th>\n",
       "      <td>NaN</td>\n",
       "      <td>0</td>\n",
       "      <td>0</td>\n",
       "      <td>0</td>\n",
       "      <td>NaN</td>\n",
       "      <td>0</td>\n",
       "      <td>0</td>\n",
       "      <td>0</td>\n",
       "      <td>1</td>\n",
       "      <td>1</td>\n",
       "      <td>...</td>\n",
       "      <td>0</td>\n",
       "      <td>1</td>\n",
       "      <td>1</td>\n",
       "      <td>1</td>\n",
       "      <td>1</td>\n",
       "      <td>0</td>\n",
       "      <td>0</td>\n",
       "      <td>1</td>\n",
       "      <td>1</td>\n",
       "      <td>1</td>\n",
       "    </tr>\n",
       "    <tr>\n",
       "      <th>896</th>\n",
       "      <td>NaN</td>\n",
       "      <td>1</td>\n",
       "      <td>0</td>\n",
       "      <td>2</td>\n",
       "      <td>NaN</td>\n",
       "      <td>0</td>\n",
       "      <td>0</td>\n",
       "      <td>1</td>\n",
       "      <td>0</td>\n",
       "      <td>2</td>\n",
       "      <td>...</td>\n",
       "      <td>2</td>\n",
       "      <td>1</td>\n",
       "      <td>0</td>\n",
       "      <td>1</td>\n",
       "      <td>1</td>\n",
       "      <td>2</td>\n",
       "      <td>1</td>\n",
       "      <td>1</td>\n",
       "      <td>1</td>\n",
       "      <td>1</td>\n",
       "    </tr>\n",
       "    <tr>\n",
       "      <th>1114</th>\n",
       "      <td>0</td>\n",
       "      <td>0</td>\n",
       "      <td>NaN</td>\n",
       "      <td>NaN</td>\n",
       "      <td>NaN</td>\n",
       "      <td>NaN</td>\n",
       "      <td>0</td>\n",
       "      <td>0</td>\n",
       "      <td>0</td>\n",
       "      <td>0</td>\n",
       "      <td>...</td>\n",
       "      <td>0</td>\n",
       "      <td>0</td>\n",
       "      <td>0</td>\n",
       "      <td>0</td>\n",
       "      <td>1</td>\n",
       "      <td>0</td>\n",
       "      <td>0</td>\n",
       "      <td>0</td>\n",
       "      <td>0</td>\n",
       "      <td>0</td>\n",
       "    </tr>\n",
       "    <tr>\n",
       "      <th>1328</th>\n",
       "      <td>0</td>\n",
       "      <td>0</td>\n",
       "      <td>0</td>\n",
       "      <td>NaN</td>\n",
       "      <td>0</td>\n",
       "      <td>0</td>\n",
       "      <td>1</td>\n",
       "      <td>0</td>\n",
       "      <td>1</td>\n",
       "      <td>1</td>\n",
       "      <td>...</td>\n",
       "      <td>1</td>\n",
       "      <td>1</td>\n",
       "      <td>1</td>\n",
       "      <td>1</td>\n",
       "      <td>1</td>\n",
       "      <td>2</td>\n",
       "      <td>1</td>\n",
       "      <td>1</td>\n",
       "      <td>1</td>\n",
       "      <td>1</td>\n",
       "    </tr>\n",
       "  </tbody>\n",
       "</table>\n",
       "<p>5 rows × 38 columns</p>\n",
       "</div>"
      ],
      "text/plain": [
       "         986  1051  1510  2081  18490  23048  23200  47325  78648  78757  \\\n",
       "chr_pos                                                                    \n",
       "821        0     1     0     0      2      1      0      1      0      1   \n",
       "871      NaN     0     0     0    NaN      0      0      0      1      1   \n",
       "896      NaN     1     0     2    NaN      0      0      1      0      2   \n",
       "1114       0     0   NaN   NaN    NaN    NaN      0      0      0      0   \n",
       "1328       0     0     0   NaN      0      0      1      0      1      1   \n",
       "\n",
       "         ...    86954  86956  87024  87089  87104  87174  87267  87309  87335  \\\n",
       "chr_pos  ...                                                                    \n",
       "821      ...        0      1      1      1      0      1      1      0      0   \n",
       "871      ...        0      1      1      1      1      0      0      1      1   \n",
       "896      ...        2      1      0      1      1      2      1      1      1   \n",
       "1114     ...        0      0      0      0      1      0      0      0      0   \n",
       "1328     ...        1      1      1      1      1      2      1      1      1   \n",
       "\n",
       "         87398  \n",
       "chr_pos         \n",
       "821          0  \n",
       "871          1  \n",
       "896          1  \n",
       "1114         0  \n",
       "1328         1  \n",
       "\n",
       "[5 rows x 38 columns]"
      ]
     },
     "execution_count": 27,
     "metadata": {},
     "output_type": "execute_result"
    }
   ],
   "source": [
    "chr20_full = pd.read_csv('/data/jhoff/Hoff_Holsteins/HO_sequence_Accuracy/umc_ho_sgen_20.csv',usecols=[2] + range(29,67),\n",
    "                    index_col=0)\n",
    "chr20_full.columns= chr20_full.columns.str.lstrip('l_')\n",
    "chr20_full.replace({0:3},inplace=True)\n",
    "chr20_full.fillna(0,inplace=True)\n",
    "chr20_full.replace({3:nan},inplace=True)\n",
    "chr20_full.head()"
   ]
  },
  {
   "cell_type": "markdown",
   "metadata": {},
   "source": [
    "#now we have two genotype 'dataframes'\n",
    "* the first is the imputed data, with no missingness, and 333477 sites\n",
    "* the second, chr20_full is the sequenced data from bob on our holstein animals. it has  \n",
    "* There were 27 animals shared across the two sets. "
   ]
  },
  {
   "cell_type": "code",
   "execution_count": 121,
   "metadata": {
    "collapsed": false
   },
   "outputs": [
    {
     "data": {
      "text/plain": [
       "(677270, 38)"
      ]
     },
     "execution_count": 121,
     "metadata": {},
     "output_type": "execute_result"
    }
   ],
   "source": [
    "chr20_full.shape"
   ]
  },
  {
   "cell_type": "code",
   "execution_count": 123,
   "metadata": {
    "collapsed": false
   },
   "outputs": [
    {
     "data": {
      "text/plain": [
       "27"
      ]
     },
     "execution_count": 123,
     "metadata": {},
     "output_type": "execute_result"
    }
   ],
   "source": [
    "chr20_full.columns.intersection(imputed_dos_chr20.columns)"
   ]
  },
  {
   "cell_type": "code",
   "execution_count": 156,
   "metadata": {
    "collapsed": false
   },
   "outputs": [],
   "source": [
    "out = chr20_full.corrwith(imputed_dos_chr20,axis=1)"
   ]
  },
  {
   "cell_type": "markdown",
   "metadata": {},
   "source": [
    "##**calculating the per base correlation on full set of variants**"
   ]
  },
  {
   "cell_type": "code",
   "execution_count": 157,
   "metadata": {
    "collapsed": false
   },
   "outputs": [
    {
     "data": {
      "text/plain": [
       "count    256276.000000\n",
       "mean          0.692287\n",
       "std           0.211165\n",
       "min          -1.000000\n",
       "25%           0.599770\n",
       "50%           0.731902\n",
       "75%           0.835366\n",
       "max           1.000000\n",
       "dtype: float64"
      ]
     },
     "execution_count": 157,
     "metadata": {},
     "output_type": "execute_result"
    }
   ],
   "source": [
    "out.describe()"
   ]
  },
  {
   "cell_type": "code",
   "execution_count": 32,
   "metadata": {
    "collapsed": false
   },
   "outputs": [
    {
     "name": "stdout",
     "output_type": "stream",
     "text": [
      "821     0.201236\n",
      "871     0.099632\n",
      "896    -0.270591\n",
      "1105         NaN\n",
      "1114         NaN\n",
      "dtype: float64\n"
     ]
    },
    {
     "data": {
      "text/plain": [
       "<matplotlib.axes._subplots.AxesSubplot at 0x7f00f3dd6d10>"
      ]
     },
     "execution_count": 32,
     "metadata": {},
     "output_type": "execute_result"
    },
    {
     "data": {
      "image/png": "[encoded data removed]",
      "text/plain": [
       "<matplotlib.figure.Figure at 0x7f00f4016b90>"
      ]
     },
     "metadata": {},
     "output_type": "display_data"
    }
   ],
   "source": [
    "print out.head()\n",
    "out.dropna(axis=0,inplace=True)\n",
    "out.head()\n",
    "out.index= range(0,out.shape[0])\n",
    "\n",
    "sns.violinplot(out)"
   ]
  },
  {
   "cell_type": "markdown",
   "metadata": {},
   "source": [
    "# Accuracy per base with all animals\n",
    ">This chart is a KDE \"violin plot\" of the distribution of per base correlations in the holstein data. There is essentially a kind of chunky normal distribution centered around .75. However, some low accuracy animals were included in this data. \n",
    "\n",
    "summary statistics in numeric form are below"
   ]
  },
  {
   "cell_type": "code",
   "execution_count": 33,
   "metadata": {
    "collapsed": false
   },
   "outputs": [],
   "source": [
    "out_peranimal = chr20_full.corrwith(imputed_dos_chr20,axis=0)"
   ]
  },
  {
   "cell_type": "markdown",
   "metadata": {},
   "source": []
  },
  {
   "cell_type": "code",
   "execution_count": 34,
   "metadata": {
    "collapsed": false
   },
   "outputs": [
    {
     "data": {
      "text/plain": [
       "<matplotlib.axes._subplots.AxesSubplot at 0x7f00f3786f90>"
      ]
     },
     "execution_count": 34,
     "metadata": {},
     "output_type": "execute_result"
    },
    {
     "data": {
      "image/png": "[encoded data removed]",
      "text/plain": [
       "<matplotlib.figure.Figure at 0x7f00f400d710>"
      ]
     },
     "metadata": {},
     "output_type": "display_data"
    }
   ],
   "source": [
    "out_peranimal.hist()"
   ]
  },
  {
   "cell_type": "markdown",
   "metadata": {},
   "source": [
    "#This is a histogram of the per animal accuracy across all chrm 20 bases. \n",
    "> there are some crappy animals here. below i've started tracking them down\n",
    "> in light of not having the ability to track them down yet, i've pulled their genotypes out of the set and recalculated these stats with the better set of animals"
   ]
  },
  {
   "cell_type": "code",
   "execution_count": 35,
   "metadata": {
    "collapsed": false
   },
   "outputs": [
    {
     "data": {
      "text/plain": [
       "count    27.000000\n",
       "mean      0.800541\n",
       "std       0.151063\n",
       "min       0.226614\n",
       "25%       0.826166\n",
       "50%       0.847016\n",
       "75%       0.864634\n",
       "max       0.899852\n",
       "dtype: float64"
      ]
     },
     "execution_count": 35,
     "metadata": {},
     "output_type": "execute_result"
    }
   ],
   "source": [
    "out_peranimal.describe()"
   ]
  },
  {
   "cell_type": "code",
   "execution_count": 36,
   "metadata": {
    "collapsed": false
   },
   "outputs": [],
   "source": [
    "highacc=out_peranimal[out_peranimal>.55]\n",
    "high_acc_20 = chr20_full[highacc.index]\n",
    "high_acc_perbase = high_acc_20.corrwith(imputed_dos_chr20,axis=1)"
   ]
  },
  {
   "cell_type": "code",
   "execution_count": 39,
   "metadata": {
    "collapsed": false
   },
   "outputs": [
    {
     "data": {
      "text/plain": [
       "Index([u'87089', u'87104', u'87174'], dtype='object')"
      ]
     },
     "execution_count": 39,
     "metadata": {},
     "output_type": "execute_result"
    }
   ],
   "source": [
    "lowacc= out_peranimal[out_peranimal<.55]\n",
    "lowacc.index\n",
    "#going to go blow"
   ]
  },
  {
   "cell_type": "markdown",
   "metadata": {},
   "source": [
    "* after removing the low accuracy outliers (for now) accuracy per base and animal jumps.\n",
    "* see below for an investigation into whats wrong with those low animals, identified as lowacc"
   ]
  },
  {
   "cell_type": "code",
   "execution_count": 159,
   "metadata": {
    "collapsed": false
   },
   "outputs": [
    {
     "data": {
      "text/plain": [
       "count    24.000000\n",
       "mean      0.850378\n",
       "std       0.021643\n",
       "min       0.812828\n",
       "25%       0.833226\n",
       "50%       0.855964\n",
       "75%       0.865643\n",
       "max       0.899852\n",
       "dtype: float64"
      ]
     },
     "execution_count": 159,
     "metadata": {},
     "output_type": "execute_result"
    }
   ],
   "source": [
    "high_acc_peranimal = high_acc_20.corrwith(imputed_dos_chr20,axis=0)\n",
    "high_acc_peranimal.describe()"
   ]
  },
  {
   "cell_type": "code",
   "execution_count": 160,
   "metadata": {
    "collapsed": false
   },
   "outputs": [
    {
     "data": {
      "text/plain": [
       "count    254355.000000\n",
       "mean          0.780016\n",
       "std           0.193522\n",
       "min          -1.000000\n",
       "25%           0.705383\n",
       "50%           0.823978\n",
       "75%           0.907485\n",
       "max           1.000000\n",
       "dtype: float64"
      ]
     },
     "execution_count": 160,
     "metadata": {},
     "output_type": "execute_result"
    }
   ],
   "source": [
    "high_acc_perbase.describe()"
   ]
  },
  {
   "cell_type": "code",
   "execution_count": 161,
   "metadata": {
    "collapsed": false
   },
   "outputs": [
    {
     "data": {
      "text/plain": [
       "<matplotlib.axes._subplots.AxesSubplot at 0x7f00da53fb10>"
      ]
     },
     "execution_count": 161,
     "metadata": {},
     "output_type": "execute_result"
    },
    {
     "data": {
      "image/png": "[encoded data removed]",
      "text/plain": [
       "<matplotlib.figure.Figure at 0x7f00f40ef7d0>"
      ]
     },
     "metadata": {},
     "output_type": "display_data"
    }
   ],
   "source": [
    "high_acc_perbase.dropna(axis=0,inplace=True)\n",
    "high_acc_perbase.head()\n",
    "high_acc_perbase.index= range(0,high_acc_perbase.shape[0])\n",
    "\n",
    "sns.violinplot(high_acc_perbase)"
   ]
  },
  {
   "cell_type": "code",
   "execution_count": 209,
   "metadata": {
    "collapsed": false
   },
   "outputs": [
    {
     "data": {
      "image/png": "[encoded data removed]",
      "text/plain": [
       "<matplotlib.figure.Figure at 0x7f009f7afad0>"
      ]
     },
     "metadata": {},
     "output_type": "display_data"
    }
   ],
   "source": [
    "sns.kdeplot(high_acc_perbase,cut=0)\n",
    "plt.title('Distribution of Imputation Accuracy Per Base')\n",
    "sns.axlabel('Correlation between imputed and sequenced genotypes','Density')"
   ]
  },
  {
   "cell_type": "markdown",
   "metadata": {},
   "source": [
    "#redo the accuracy per base without the bad animals\n",
    ">now the mean is much higher and the distirbution looks quite a bit more like the angus data. Still some weird zeros and a big fat tail."
   ]
  },
  {
   "cell_type": "code",
   "execution_count": 162,
   "metadata": {
    "collapsed": false
   },
   "outputs": [],
   "source": [
    "def maf(i):\n",
    "\tif  np.sum(i) <= 38:\n",
    "\t\treturn  np.sum(i)/float(76)\n",
    "\tif np.sum(i)  >38:\n",
    "\t\treturn (1 -  (np.sum(i)/float(76)))"
   ]
  },
  {
   "cell_type": "code",
   "execution_count": 163,
   "metadata": {
    "collapsed": false
   },
   "outputs": [],
   "source": [
    "MAF = chr20_full.apply(maf,axis=1)"
   ]
  },
  {
   "cell_type": "markdown",
   "metadata": {},
   "source": [
    ">calculate the MAF for the mu-sequenced data and the imputed data"
   ]
  },
  {
   "cell_type": "code",
   "execution_count": 164,
   "metadata": {
    "collapsed": false
   },
   "outputs": [
    {
     "data": {
      "text/plain": [
       "count    677140.000000\n",
       "mean          0.087069\n",
       "std           0.134992\n",
       "min           0.000000\n",
       "25%           0.000000\n",
       "50%           0.013158\n",
       "75%           0.131579\n",
       "max           0.500000\n",
       "dtype: float64"
      ]
     },
     "execution_count": 164,
     "metadata": {},
     "output_type": "execute_result"
    }
   ],
   "source": [
    "MAF.describe()"
   ]
  },
  {
   "cell_type": "code",
   "execution_count": 165,
   "metadata": {
    "collapsed": true
   },
   "outputs": [],
   "source": [
    "impMAF = imputed_dos_chr20.apply(maf,axis=1)"
   ]
  },
  {
   "cell_type": "code",
   "execution_count": 166,
   "metadata": {
    "collapsed": false
   },
   "outputs": [
    {
     "data": {
      "text/plain": [
       "count    333477.000000\n",
       "mean          0.214949\n",
       "std           0.147555\n",
       "min           0.000000\n",
       "25%           0.078947\n",
       "50%           0.184211\n",
       "75%           0.342105\n",
       "max           0.500000\n",
       "dtype: float64"
      ]
     },
     "execution_count": 166,
     "metadata": {},
     "output_type": "execute_result"
    }
   ],
   "source": [
    "impMAF.describe()"
   ]
  },
  {
   "cell_type": "code",
   "execution_count": 167,
   "metadata": {
    "collapsed": false
   },
   "outputs": [
    {
     "data": {
      "text/html": [
       "<div style=\"max-height:1000px;max-width:1500px;overflow:auto;\">\n",
       "<table border=\"1\" class=\"dataframe\">\n",
       "  <thead>\n",
       "    <tr style=\"text-align: right;\">\n",
       "      <th></th>\n",
       "      <th>MAF</th>\n",
       "      <th>imputed_AF</th>\n",
       "    </tr>\n",
       "  </thead>\n",
       "  <tbody>\n",
       "    <tr>\n",
       "      <th>821</th>\n",
       "      <td>0.302632</td>\n",
       "      <td>0.065789</td>\n",
       "    </tr>\n",
       "    <tr>\n",
       "      <th>871</th>\n",
       "      <td>0.263158</td>\n",
       "      <td>0.355263</td>\n",
       "    </tr>\n",
       "    <tr>\n",
       "      <th>896</th>\n",
       "      <td>0.460526</td>\n",
       "      <td>0.394737</td>\n",
       "    </tr>\n",
       "    <tr>\n",
       "      <th>1105</th>\n",
       "      <td>NaN</td>\n",
       "      <td>0.250000</td>\n",
       "    </tr>\n",
       "    <tr>\n",
       "      <th>1114</th>\n",
       "      <td>0.026316</td>\n",
       "      <td>NaN</td>\n",
       "    </tr>\n",
       "  </tbody>\n",
       "</table>\n",
       "</div>"
      ],
      "text/plain": [
       "           MAF  imputed_AF\n",
       "821   0.302632    0.065789\n",
       "871   0.263158    0.355263\n",
       "896   0.460526    0.394737\n",
       "1105       NaN    0.250000\n",
       "1114  0.026316         NaN"
      ]
     },
     "execution_count": 167,
     "metadata": {},
     "output_type": "execute_result"
    }
   ],
   "source": [
    "freqer = pd.DataFrame({'imputed_AF': impMAF, 'MAF':MAF})\n",
    "freqer.head()"
   ]
  },
  {
   "cell_type": "code",
   "execution_count": 274,
   "metadata": {
    "collapsed": false
   },
   "outputs": [
    {
     "data": {
      "text/plain": [
       "<seaborn.axisgrid.JointGrid at 0x7f7a09c77a90>"
      ]
     },
     "execution_count": 274,
     "metadata": {},
     "output_type": "execute_result"
    },
    {
     "data": {
      "image/png": "[encoded data removed]",
      "text/plain": [
       "<matplotlib.figure.Figure at 0x7f7a09c83150>"
      ]
     },
     "metadata": {},
     "output_type": "display_data"
    }
   ],
   "source": [
    "\n",
    "sns.jointplot(x=freqer.MAF,y=freqer.imputed_AF,kind='kde')"
   ]
  },
  {
   "cell_type": "markdown",
   "metadata": {},
   "source": [
    "#Joint distribution of the AF in imputed and seq data\n",
    ">This is kind of interesting: there is a little enrichment of some rare \n",
    "variants in the imputed animals, and a little enrichment of some common variants. Not sure what else to say\n",
    "\n",
    "> Keep scrolling down to see the MAF per base bins\n",
    "\n"
   ]
  },
  {
   "cell_type": "code",
   "execution_count": 175,
   "metadata": {
    "collapsed": false
   },
   "outputs": [
    {
     "name": "stdout",
     "output_type": "stream",
     "text": [
      "               MAF  Holstein_acc      imp_MAF\n",
      "count  2317.000000   2317.000000  1047.000000\n",
      "mean      0.097477      0.775602     0.212663\n",
      "std       0.140301      0.199610     0.179833\n",
      "min       0.000000     -0.527046     0.000000\n",
      "25%       0.000000      0.698131     0.052632\n",
      "50%       0.026316      0.822330     0.131579\n",
      "75%       0.144737      0.911362     0.447368\n",
      "max       0.500000      1.000000     0.500000\n"
     ]
    }
   ],
   "source": [
    "plotter=DataFrame(MAF)\n",
    "plotter['Holstein_acc']=high_acc_perbase\n",
    "plotter['imp_MAF']=impMAF\n",
    "bins= np.linspace(0,.5,100)\n",
    "plotter= plotter.rename(columns={0:'MAF'})\n",
    "plotter_na = plotter[(-2<plotter['Holstein_acc']) & (plotter['Holstein_acc']<2)]\n",
    "print plotter_na.describe()\n",
    "a_bins = plotter_na.groupby(pd.cut(plotter_na['MAF'],bins))\n",
    "b_bins = plotter_na.groupby(pd.cut(plotter_na['imp_MAF'],bins))"
   ]
  },
  {
   "cell_type": "code",
   "execution_count": 176,
   "metadata": {
    "collapsed": false
   },
   "outputs": [
    {
     "data": {
      "text/html": [
       "<div style=\"max-height:1000px;max-width:1500px;overflow:auto;\">\n",
       "<table border=\"1\" class=\"dataframe\">\n",
       "  <thead>\n",
       "    <tr style=\"text-align: right;\">\n",
       "      <th></th>\n",
       "      <th>MAF</th>\n",
       "      <th>Holstein_acc</th>\n",
       "      <th>imp_MAF</th>\n",
       "    </tr>\n",
       "    <tr>\n",
       "      <th>chr_pos</th>\n",
       "      <th></th>\n",
       "      <th></th>\n",
       "      <th></th>\n",
       "    </tr>\n",
       "  </thead>\n",
       "  <tbody>\n",
       "    <tr>\n",
       "      <th>821</th>\n",
       "      <td>0.302632</td>\n",
       "      <td>0.885994</td>\n",
       "      <td>0.065789</td>\n",
       "    </tr>\n",
       "    <tr>\n",
       "      <th>871</th>\n",
       "      <td>0.263158</td>\n",
       "      <td>0.885994</td>\n",
       "      <td>0.355263</td>\n",
       "    </tr>\n",
       "    <tr>\n",
       "      <th>896</th>\n",
       "      <td>0.460526</td>\n",
       "      <td>0.959185</td>\n",
       "      <td>0.394737</td>\n",
       "    </tr>\n",
       "    <tr>\n",
       "      <th>1114</th>\n",
       "      <td>0.026316</td>\n",
       "      <td>0.674200</td>\n",
       "      <td>NaN</td>\n",
       "    </tr>\n",
       "    <tr>\n",
       "      <th>1328</th>\n",
       "      <td>0.486842</td>\n",
       "      <td>0.514683</td>\n",
       "      <td>NaN</td>\n",
       "    </tr>\n",
       "  </tbody>\n",
       "</table>\n",
       "</div>"
      ],
      "text/plain": [
       "              MAF  Holstein_acc   imp_MAF\n",
       "chr_pos                                  \n",
       "821      0.302632      0.885994  0.065789\n",
       "871      0.263158      0.885994  0.355263\n",
       "896      0.460526      0.959185  0.394737\n",
       "1114     0.026316      0.674200       NaN\n",
       "1328     0.486842      0.514683       NaN"
      ]
     },
     "execution_count": 176,
     "metadata": {},
     "output_type": "execute_result"
    }
   ],
   "source": [
    "plotter_na.head()"
   ]
  },
  {
   "cell_type": "code",
   "execution_count": 189,
   "metadata": {
    "collapsed": false
   },
   "outputs": [
    {
     "data": {
      "text/plain": [
       "<matplotlib.axes._subplots.AxesSubplot at 0x7f00d9a84290>"
      ]
     },
     "execution_count": 189,
     "metadata": {},
     "output_type": "execute_result"
    },
    {
     "data": {
      "image/png": "[encoded data removed]",
      "text/plain": [
       "<matplotlib.figure.Figure at 0x7f00d9a84050>"
      ]
     },
     "metadata": {},
     "output_type": "display_data"
    }
   ],
   "source": [
    "sns.violinplot(plotter_na.Holstein_acc,groupby=plotter_na.MAF,cut=0)"
   ]
  },
  {
   "cell_type": "markdown",
   "metadata": {},
   "source": [
    "## MAF binned accuracy\n",
    "* in ascending order of allelle frequency, there is no real trend in the accuracy changes\n",
    "* however there is clearly some noise across small bins and big bins in this data set"
   ]
  },
  {
   "cell_type": "code",
   "execution_count": 172,
   "metadata": {
    "collapsed": false
   },
   "outputs": [
    {
     "data": {
      "text/html": [
       "<div style=\"max-height:1000px;max-width:1500px;overflow:auto;\">\n",
       "<table border=\"1\" class=\"dataframe\">\n",
       "  <thead>\n",
       "    <tr style=\"text-align: right;\">\n",
       "      <th></th>\n",
       "      <th>MAF</th>\n",
       "      <th>Holstein- No missings or low accuracy</th>\n",
       "      <th>imp_MAF</th>\n",
       "    </tr>\n",
       "    <tr>\n",
       "      <th>MAF</th>\n",
       "      <th></th>\n",
       "      <th></th>\n",
       "      <th></th>\n",
       "    </tr>\n",
       "  </thead>\n",
       "  <tbody>\n",
       "    <tr>\n",
       "      <th>(0, 0.00505]</th>\n",
       "      <td>NaN</td>\n",
       "      <td>NaN</td>\n",
       "      <td>NaN</td>\n",
       "    </tr>\n",
       "    <tr>\n",
       "      <th>(0.00505, 0.0101]</th>\n",
       "      <td>NaN</td>\n",
       "      <td>NaN</td>\n",
       "      <td>NaN</td>\n",
       "    </tr>\n",
       "    <tr>\n",
       "      <th>(0.0101, 0.0152]</th>\n",
       "      <td>0.013158</td>\n",
       "      <td>0.772818</td>\n",
       "      <td>0.049393</td>\n",
       "    </tr>\n",
       "    <tr>\n",
       "      <th>(0.0152, 0.0202]</th>\n",
       "      <td>NaN</td>\n",
       "      <td>NaN</td>\n",
       "      <td>NaN</td>\n",
       "    </tr>\n",
       "    <tr>\n",
       "      <th>(0.0202, 0.0253]</th>\n",
       "      <td>NaN</td>\n",
       "      <td>NaN</td>\n",
       "      <td>NaN</td>\n",
       "    </tr>\n",
       "  </tbody>\n",
       "</table>\n",
       "</div>"
      ],
      "text/plain": [
       "                        MAF  Holstein- No missings or low accuracy   imp_MAF\n",
       "MAF                                                                         \n",
       "(0, 0.00505]            NaN                                    NaN       NaN\n",
       "(0.00505, 0.0101]       NaN                                    NaN       NaN\n",
       "(0.0101, 0.0152]   0.013158                               0.772818  0.049393\n",
       "(0.0152, 0.0202]        NaN                                    NaN       NaN\n",
       "(0.0202, 0.0253]        NaN                                    NaN       NaN"
      ]
     },
     "execution_count": 172,
     "metadata": {},
     "output_type": "execute_result"
    }
   ],
   "source": [
    "plotbox = a_bins.mean()\n",
    "plotbox.head()"
   ]
  },
  {
   "cell_type": "code",
   "execution_count": 286,
   "metadata": {
    "collapsed": false
   },
   "outputs": [
    {
     "data": {
      "text/plain": [
       "CategoricalIndex([u'(0, 0.00505]', u'(0.00505, 0.0101]', u'(0.0101, 0.0152]',\n",
       "                  u'(0.0152, 0.0202]', u'(0.0202, 0.0253]',\n",
       "                  u'(0.0253, 0.0303]', u'(0.0303, 0.0354]',\n",
       "                  u'(0.0354, 0.0404]', u'(0.0404, 0.0455]',\n",
       "                  u'(0.0455, 0.0505]', u'(0.0505, 0.0556]',\n",
       "                  u'(0.0556, 0.0606]', u'(0.0606, 0.0657]',\n",
       "                  u'(0.0657, 0.0707]', u'(0.0707, 0.0758]',\n",
       "                  u'(0.0758, 0.0808]', u'(0.0808, 0.0859]',\n",
       "                  u'(0.0859, 0.0909]', u'(0.0909, 0.096]', u'(0.096, 0.101]',\n",
       "                  u'(0.101, 0.106]', u'(0.106, 0.111]', u'(0.111, 0.116]',\n",
       "                  u'(0.116, 0.121]', u'(0.121, 0.126]', u'(0.126, 0.131]',\n",
       "                  u'(0.131, 0.136]', u'(0.136, 0.141]', u'(0.141, 0.146]',\n",
       "                  u'(0.146, 0.152]', u'(0.152, 0.157]', u'(0.157, 0.162]',\n",
       "                  u'(0.162, 0.167]', u'(0.167, 0.172]', u'(0.172, 0.177]',\n",
       "                  u'(0.177, 0.182]', u'(0.182, 0.187]', u'(0.187, 0.192]',\n",
       "                  u'(0.192, 0.197]', u'(0.197, 0.202]', u'(0.202, 0.207]',\n",
       "                  u'(0.207, 0.212]', u'(0.212, 0.217]', u'(0.217, 0.222]',\n",
       "                  u'(0.222, 0.227]', u'(0.227, 0.232]', u'(0.232, 0.237]',\n",
       "                  u'(0.237, 0.242]', u'(0.242, 0.247]', u'(0.247, 0.253]',\n",
       "                  u'(0.253, 0.258]', u'(0.258, 0.263]', u'(0.263, 0.268]',\n",
       "                  u'(0.268, 0.273]', u'(0.273, 0.278]', u'(0.278, 0.283]',\n",
       "                  u'(0.283, 0.288]', u'(0.288, 0.293]', u'(0.293, 0.298]',\n",
       "                  u'(0.298, 0.303]', u'(0.303, 0.308]', u'(0.308, 0.313]',\n",
       "                  u'(0.313, 0.318]', u'(0.318, 0.323]', u'(0.323, 0.328]',\n",
       "                  u'(0.328, 0.333]', u'(0.333, 0.338]', u'(0.338, 0.343]',\n",
       "                  u'(0.343, 0.348]', u'(0.348, 0.354]', u'(0.354, 0.359]',\n",
       "                  u'(0.359, 0.364]', u'(0.364, 0.369]', u'(0.369, 0.374]',\n",
       "                  u'(0.374, 0.379]', u'(0.379, 0.384]', u'(0.384, 0.389]',\n",
       "                  u'(0.389, 0.394]', u'(0.394, 0.399]', u'(0.399, 0.404]',\n",
       "                  u'(0.404, 0.409]', u'(0.409, 0.414]', u'(0.414, 0.419]',\n",
       "                  u'(0.419, 0.424]', u'(0.424, 0.429]', u'(0.429, 0.434]',\n",
       "                  u'(0.434, 0.439]', u'(0.439, 0.444]', u'(0.444, 0.449]',\n",
       "                  u'(0.449, 0.455]', u'(0.455, 0.46]', u'(0.46, 0.465]',\n",
       "                  u'(0.465, 0.47]', u'(0.47, 0.475]', u'(0.475, 0.48]',\n",
       "                  u'(0.48, 0.485]', u'(0.485, 0.49]', u'(0.49, 0.495]',\n",
       "                  u'(0.495, 0.5]'],\n",
       "                 categories=[u'(0, 0.00505]', u'(0.00505, 0.0101]', u'(0.0101, 0.0152]', u'(0.0152, 0.0202]', u'(0.0202, 0.0253]', u'(0.0253, 0.0303]', u'(0.0303, 0.0354]', u'(0.0354, 0.0404]', ...], ordered=True, name=u'imp_MAF', dtype='category')"
      ]
     },
     "execution_count": 286,
     "metadata": {},
     "output_type": "execute_result"
    }
   ],
   "source": [
    "imputed_maf_plotbox = b_bins.mean()\n",
    "imputed_maf_plotbox.index"
   ]
  },
  {
   "cell_type": "code",
   "execution_count": 287,
   "metadata": {
    "collapsed": false
   },
   "outputs": [
    {
     "data": {
      "image/png": "[encoded data removed]",
      "text/plain": [
       "<matplotlib.figure.Figure at 0x7f7a0a2e7890>"
      ]
     },
     "metadata": {},
     "output_type": "display_data"
    }
   ],
   "source": [
    "newplot=plt.scatter(x=imputed_maf_plotbox.imp_MAF\n",
    "                    ,y=imputed_maf_plotbox['Holstein- No missings or low accuracy'],color='Red')\n",
    "\n",
    "plt.legend((),('newplot'),scatterpoints=1,loc='lower right')\n",
    "plt.xlabel('Imputed_MAF')\n",
    "plt.xlim(0,.5)\n",
    "plt.ylabel('Correlation')\n",
    "\n",
    "plt.show()"
   ]
  },
  {
   "cell_type": "markdown",
   "metadata": {},
   "source": [
    "#MAF based binning of per base correlation\n",
    "\n",
    "* There are not enough animals to drill into the ultra rare MAF but actually it looks like there is pretty good resolution here\n",
    "\n",
    "* The trend is still pointing up, with a bit more noise\n",
    "\n",
    "* don't be fooled by the y axis boundries!\n",
    "\n",
    "* And looking below, with the seq based maf, the result is pretty similar"
   ]
  },
  {
   "cell_type": "code",
   "execution_count": 291,
   "metadata": {
    "collapsed": false
   },
   "outputs": [
    {
     "data": {
      "image/png": "[encoded data removed]",
      "text/plain": [
       "<matplotlib.figure.Figure at 0x7f79cbd74590>"
      ]
     },
     "metadata": {},
     "output_type": "display_data"
    }
   ],
   "source": [
    "Ho_high=plt.scatter(x=plotbox['MAF'],y=plotbox['Holstein- No missings or low accuracy'],color='Red')\n",
    "\n",
    "plt.legend((),('Ho_high'),scatterpoints=1,loc='lower right')\n",
    "plt.xlabel('seq based MAF')\n",
    "plt.xlim(0,.5)\n",
    "plt.ylabel('Correlation')\n",
    "\n",
    "plt.show()"
   ]
  },
  {
   "cell_type": "code",
   "execution_count": 212,
   "metadata": {
    "collapsed": false
   },
   "outputs": [
    {
     "data": {
      "text/plain": [
       "<matplotlib.text.Text at 0x7f00857ef390>"
      ]
     },
     "execution_count": 212,
     "metadata": {},
     "output_type": "execute_result"
    },
    {
     "data": {
      "image/png": "[encoded data removed]",
      "text/plain": [
       "<matplotlib.figure.Figure at 0x7f00c5c08f10>"
      ]
     },
     "metadata": {},
     "output_type": "display_data"
    }
   ],
   "source": [
    "dan = range(1,len(high_acc_perbase),200) #\n",
    "subset = high_acc_perbase.iloc[dan]\n",
    "subset.plot(kind='bar',figsize=(15,4),title='Accuracy by position',width=2,xticks=[],use_index=False,ylim=(0,1),color='black')\n",
    "plt.xlabel('Ordered Position along Chrm27')\n",
    "plt.ylabel('Correlation per base')"
   ]
  },
  {
   "cell_type": "markdown",
   "metadata": {},
   "source": [
    "#regional imputation accuracy\n",
    "* across the genome, there is wide spread high accuracy\n",
    "* this provides high accuracy markers with good LD properties\n",
    "* conversely, we can that the low accuracy outliers probably drive the mean and std of accuracy\n",
    "* however, these randomly distributed low accuracy sitse shouldn't impact the overall GWAS analysis too significantly\n",
    "* they are probably associated with assembly errors"
   ]
  },
  {
   "cell_type": "code",
   "execution_count": 504,
   "metadata": {
    "collapsed": false
   },
   "outputs": [
    {
     "data": {
      "text/plain": [
       "['677271 umc_ho_sgen_20.csv']"
      ]
     },
     "execution_count": 504,
     "metadata": {},
     "output_type": "execute_result"
    }
   ],
   "source": [
    "!!  wc -l umc_ho_sgen_20.csv"
   ]
  },
  {
   "cell_type": "code",
   "execution_count": 545,
   "metadata": {
    "collapsed": false
   },
   "outputs": [
    {
     "data": {
      "text/plain": [
       "count    30.000000\n",
       "mean      0.243701\n",
       "std       0.084984\n",
       "min       0.070004\n",
       "25%       0.183008\n",
       "50%       0.232567\n",
       "75%       0.313814\n",
       "max       0.401649\n",
       "dtype: float64"
      ]
     },
     "execution_count": 545,
     "metadata": {},
     "output_type": "execute_result"
    }
   ],
   "source": [
    "corr_per_animal = chr20_full.corrwith(imputed_dos_chr20,axis=0)\n",
    "corr_per_animal.describe()"
   ]
  },
  {
   "cell_type": "code",
   "execution_count": 163,
   "metadata": {
    "collapsed": false
   },
   "outputs": [
    {
     "data": {
      "text/plain": [
       "['# imputation-pipelines']"
      ]
     },
     "execution_count": 163,
     "metadata": {},
     "output_type": "execute_result"
    }
   ],
   "source": [
    "!! head README.md"
   ]
  },
  {
   "cell_type": "markdown",
   "metadata": {
    "collapsed": true
   },
   "source": [
    "# dealing with the low acc animals\n",
    "* we need to pull in all the imputed variants at a subset of shared sites\n"
   ]
  },
  {
   "cell_type": "code",
   "execution_count": 49,
   "metadata": {
    "collapsed": false
   },
   "outputs": [
    {
     "data": {
      "text/html": [
       "<div style=\"max-height:1000px;max-width:1500px;overflow:auto;\">\n",
       "<table border=\"1\" class=\"dataframe\">\n",
       "  <thead>\n",
       "    <tr style=\"text-align: right;\">\n",
       "      <th></th>\n",
       "      <th>87089</th>\n",
       "      <th>87104</th>\n",
       "      <th>87174</th>\n",
       "    </tr>\n",
       "  </thead>\n",
       "  <tbody>\n",
       "    <tr>\n",
       "      <th>count</th>\n",
       "      <td>659419.000000</td>\n",
       "      <td>664799.000000</td>\n",
       "      <td>655127.000000</td>\n",
       "    </tr>\n",
       "    <tr>\n",
       "      <th>mean</th>\n",
       "      <td>0.269101</td>\n",
       "      <td>0.256306</td>\n",
       "      <td>0.269577</td>\n",
       "    </tr>\n",
       "    <tr>\n",
       "      <th>std</th>\n",
       "      <td>0.626557</td>\n",
       "      <td>0.599240</td>\n",
       "      <td>0.626436</td>\n",
       "    </tr>\n",
       "    <tr>\n",
       "      <th>min</th>\n",
       "      <td>0.000000</td>\n",
       "      <td>0.000000</td>\n",
       "      <td>0.000000</td>\n",
       "    </tr>\n",
       "    <tr>\n",
       "      <th>25%</th>\n",
       "      <td>0.000000</td>\n",
       "      <td>0.000000</td>\n",
       "      <td>0.000000</td>\n",
       "    </tr>\n",
       "    <tr>\n",
       "      <th>50%</th>\n",
       "      <td>0.000000</td>\n",
       "      <td>0.000000</td>\n",
       "      <td>0.000000</td>\n",
       "    </tr>\n",
       "    <tr>\n",
       "      <th>75%</th>\n",
       "      <td>0.000000</td>\n",
       "      <td>0.000000</td>\n",
       "      <td>0.000000</td>\n",
       "    </tr>\n",
       "    <tr>\n",
       "      <th>max</th>\n",
       "      <td>2.000000</td>\n",
       "      <td>2.000000</td>\n",
       "      <td>2.000000</td>\n",
       "    </tr>\n",
       "  </tbody>\n",
       "</table>\n",
       "</div>"
      ],
      "text/plain": [
       "               87089          87104          87174\n",
       "count  659419.000000  664799.000000  655127.000000\n",
       "mean        0.269101       0.256306       0.269577\n",
       "std         0.626557       0.599240       0.626436\n",
       "min         0.000000       0.000000       0.000000\n",
       "25%         0.000000       0.000000       0.000000\n",
       "50%         0.000000       0.000000       0.000000\n",
       "75%         0.000000       0.000000       0.000000\n",
       "max         2.000000       2.000000       2.000000"
      ]
     },
     "execution_count": 49,
     "metadata": {},
     "output_type": "execute_result"
    }
   ],
   "source": [
    "lowacc.head()\n",
    "low_acc_20 = chr20_full[lowacc.index]\n",
    "low_acc_20.describe()\n"
   ]
  },
  {
   "cell_type": "code",
   "execution_count": 81,
   "metadata": {
    "collapsed": false
   },
   "outputs": [
    {
     "data": {
      "text/html": [
       "<div style=\"max-height:1000px;max-width:1500px;overflow:auto;\">\n",
       "<table border=\"1\" class=\"dataframe\">\n",
       "  <thead>\n",
       "    <tr style=\"text-align: right;\">\n",
       "      <th></th>\n",
       "      <th>1</th>\n",
       "      <th>2</th>\n",
       "      <th>3</th>\n",
       "      <th>4</th>\n",
       "      <th>5</th>\n",
       "      <th>6</th>\n",
       "      <th>7</th>\n",
       "      <th>8</th>\n",
       "      <th>9</th>\n",
       "      <th>10</th>\n",
       "      <th>...</th>\n",
       "      <th>4107</th>\n",
       "      <th>4108</th>\n",
       "      <th>4109</th>\n",
       "      <th>4110</th>\n",
       "      <th>4111</th>\n",
       "      <th>4112</th>\n",
       "      <th>4113</th>\n",
       "      <th>4114</th>\n",
       "      <th>4115</th>\n",
       "      <th>4116</th>\n",
       "    </tr>\n",
       "    <tr>\n",
       "      <th>0</th>\n",
       "      <th></th>\n",
       "      <th></th>\n",
       "      <th></th>\n",
       "      <th></th>\n",
       "      <th></th>\n",
       "      <th></th>\n",
       "      <th></th>\n",
       "      <th></th>\n",
       "      <th></th>\n",
       "      <th></th>\n",
       "      <th></th>\n",
       "      <th></th>\n",
       "      <th></th>\n",
       "      <th></th>\n",
       "      <th></th>\n",
       "      <th></th>\n",
       "      <th></th>\n",
       "      <th></th>\n",
       "      <th></th>\n",
       "      <th></th>\n",
       "      <th></th>\n",
       "    </tr>\n",
       "  </thead>\n",
       "  <tbody>\n",
       "    <tr>\n",
       "      <th>821</th>\n",
       "      <td>1</td>\n",
       "      <td>0</td>\n",
       "      <td>1</td>\n",
       "      <td>1</td>\n",
       "      <td>0</td>\n",
       "      <td>1</td>\n",
       "      <td>0</td>\n",
       "      <td>1</td>\n",
       "      <td>0</td>\n",
       "      <td>0</td>\n",
       "      <td>...</td>\n",
       "      <td>1</td>\n",
       "      <td>1</td>\n",
       "      <td>0</td>\n",
       "      <td>0</td>\n",
       "      <td>0</td>\n",
       "      <td>0</td>\n",
       "      <td>0</td>\n",
       "      <td>0</td>\n",
       "      <td>0</td>\n",
       "      <td>0</td>\n",
       "    </tr>\n",
       "    <tr>\n",
       "      <th>871</th>\n",
       "      <td>2</td>\n",
       "      <td>1</td>\n",
       "      <td>0</td>\n",
       "      <td>1</td>\n",
       "      <td>0</td>\n",
       "      <td>2</td>\n",
       "      <td>0</td>\n",
       "      <td>2</td>\n",
       "      <td>0</td>\n",
       "      <td>1</td>\n",
       "      <td>...</td>\n",
       "      <td>1</td>\n",
       "      <td>2</td>\n",
       "      <td>1</td>\n",
       "      <td>1</td>\n",
       "      <td>0</td>\n",
       "      <td>0</td>\n",
       "      <td>0</td>\n",
       "      <td>1</td>\n",
       "      <td>2</td>\n",
       "      <td>1</td>\n",
       "    </tr>\n",
       "    <tr>\n",
       "      <th>896</th>\n",
       "      <td>2</td>\n",
       "      <td>1</td>\n",
       "      <td>0</td>\n",
       "      <td>1</td>\n",
       "      <td>0</td>\n",
       "      <td>2</td>\n",
       "      <td>0</td>\n",
       "      <td>2</td>\n",
       "      <td>0</td>\n",
       "      <td>1</td>\n",
       "      <td>...</td>\n",
       "      <td>1</td>\n",
       "      <td>2</td>\n",
       "      <td>1</td>\n",
       "      <td>1</td>\n",
       "      <td>0</td>\n",
       "      <td>1</td>\n",
       "      <td>0</td>\n",
       "      <td>1</td>\n",
       "      <td>2</td>\n",
       "      <td>2</td>\n",
       "    </tr>\n",
       "    <tr>\n",
       "      <th>1105</th>\n",
       "      <td>1</td>\n",
       "      <td>1</td>\n",
       "      <td>0</td>\n",
       "      <td>1</td>\n",
       "      <td>0</td>\n",
       "      <td>1</td>\n",
       "      <td>0</td>\n",
       "      <td>1</td>\n",
       "      <td>0</td>\n",
       "      <td>1</td>\n",
       "      <td>...</td>\n",
       "      <td>1</td>\n",
       "      <td>2</td>\n",
       "      <td>1</td>\n",
       "      <td>0</td>\n",
       "      <td>0</td>\n",
       "      <td>0</td>\n",
       "      <td>0</td>\n",
       "      <td>0</td>\n",
       "      <td>1</td>\n",
       "      <td>0</td>\n",
       "    </tr>\n",
       "    <tr>\n",
       "      <th>1172</th>\n",
       "      <td>0</td>\n",
       "      <td>0</td>\n",
       "      <td>0</td>\n",
       "      <td>0</td>\n",
       "      <td>0</td>\n",
       "      <td>0</td>\n",
       "      <td>0</td>\n",
       "      <td>0</td>\n",
       "      <td>0</td>\n",
       "      <td>1</td>\n",
       "      <td>...</td>\n",
       "      <td>1</td>\n",
       "      <td>1</td>\n",
       "      <td>1</td>\n",
       "      <td>0</td>\n",
       "      <td>0</td>\n",
       "      <td>0</td>\n",
       "      <td>0</td>\n",
       "      <td>0</td>\n",
       "      <td>0</td>\n",
       "      <td>0</td>\n",
       "    </tr>\n",
       "  </tbody>\n",
       "</table>\n",
       "<p>5 rows × 4116 columns</p>\n",
       "</div>"
      ],
      "text/plain": [
       "      1     2     3     4     5     6     7     8     9     10    ...   4107  \\\n",
       "0                                                                 ...          \n",
       "821      1     0     1     1     0     1     0     1     0     0  ...      1   \n",
       "871      2     1     0     1     0     2     0     2     0     1  ...      1   \n",
       "896      2     1     0     1     0     2     0     2     0     1  ...      1   \n",
       "1105     1     1     0     1     0     1     0     1     0     1  ...      1   \n",
       "1172     0     0     0     0     0     0     0     0     0     1  ...      1   \n",
       "\n",
       "      4108  4109  4110  4111  4112  4113  4114  4115  4116  \n",
       "0                                                           \n",
       "821      1     0     0     0     0     0     0     0     0  \n",
       "871      2     1     1     0     0     0     1     2     1  \n",
       "896      2     1     1     0     1     0     1     2     2  \n",
       "1105     2     1     0     0     0     0     0     1     0  \n",
       "1172     1     1     0     0     0     0     0     0     0  \n",
       "\n",
       "[5 rows x 4116 columns]"
      ]
     },
     "execution_count": 81,
     "metadata": {},
     "output_type": "execute_result"
    }
   ],
   "source": [
    "all_imputed_dos = pd.read_csv('/data/jhoff/Hoff_Holsteins/HO_5265_Imputed/Chr20HO_2step_1kbull.dosage.txt.gz',\n",
    "                                compression= 'gzip',\n",
    "                                header=None,nrows=40000,index_col=0)\n",
    "all_imputed_dos.head()"
   ]
  },
  {
   "cell_type": "code",
   "execution_count": 88,
   "metadata": {
    "collapsed": false
   },
   "outputs": [],
   "source": [
    "seq_samp= low_acc_20.iloc[:15000,:]\n",
    "test_seq = seq_samp.head()\n",
    "test_imp = all_imputed_dos.head()"
   ]
  },
  {
   "cell_type": "code",
   "execution_count": 82,
   "metadata": {
    "collapsed": false
   },
   "outputs": [
    {
     "data": {
      "text/plain": [
       "(33402, 4119)"
      ]
     },
     "execution_count": 82,
     "metadata": {},
     "output_type": "execute_result"
    }
   ],
   "source": [
    "new = pd.concat([low_acc_20,all_imputed_dos],axis=1,join='inner')\n",
    "#drop all rows not shared\n",
    "new.shape\n"
   ]
  },
  {
   "cell_type": "code",
   "execution_count": 83,
   "metadata": {
    "collapsed": false
   },
   "outputs": [
    {
     "ename": "KeyboardInterrupt",
     "evalue": "",
     "output_type": "error",
     "traceback": [
      "\u001b[1;31m---------------------------------------------------------------------------\u001b[0m",
      "\u001b[1;31mKeyboardInterrupt\u001b[0m                         Traceback (most recent call last)",
      "\u001b[1;32m<ipython-input-83-d0de2b23b133>\u001b[0m in \u001b[0;36m<module>\u001b[1;34m()\u001b[0m\n\u001b[1;32m----> 1\u001b[1;33m \u001b[0mmislabled_id\u001b[0m \u001b[1;33m=\u001b[0m \u001b[0mnew\u001b[0m\u001b[1;33m.\u001b[0m\u001b[0mcorr\u001b[0m\u001b[1;33m(\u001b[0m\u001b[1;33m)\u001b[0m\u001b[1;33m\u001b[0m\u001b[0m\n\u001b[0m",
      "\u001b[1;32m/home/jlh4df/anaconda/lib/python2.7/site-packages/pandas/core/frame.pyc\u001b[0m in \u001b[0;36mcorr\u001b[1;34m(self, method, min_periods)\u001b[0m\n\u001b[0;32m   4090\u001b[0m         \u001b[1;32mif\u001b[0m \u001b[0mmethod\u001b[0m \u001b[1;33m==\u001b[0m \u001b[1;34m'pearson'\u001b[0m\u001b[1;33m:\u001b[0m\u001b[1;33m\u001b[0m\u001b[0m\n\u001b[0;32m   4091\u001b[0m             correl = _algos.nancorr(com._ensure_float64(mat),\n\u001b[1;32m-> 4092\u001b[1;33m                                     minp=min_periods)\n\u001b[0m\u001b[0;32m   4093\u001b[0m         \u001b[1;32melif\u001b[0m \u001b[0mmethod\u001b[0m \u001b[1;33m==\u001b[0m \u001b[1;34m'spearman'\u001b[0m\u001b[1;33m:\u001b[0m\u001b[1;33m\u001b[0m\u001b[0m\n\u001b[0;32m   4094\u001b[0m             correl = _algos.nancorr_spearman(com._ensure_float64(mat),\n",
      "\u001b[1;31mKeyboardInterrupt\u001b[0m: "
     ]
    }
   ],
   "source": [
    "mislabled_id = new.corr()"
   ]
  },
  {
   "cell_type": "code",
   "execution_count": 85,
   "metadata": {
    "collapsed": false
   },
   "outputs": [
    {
     "data": {
      "text/html": [
       "<div style=\"max-height:1000px;max-width:1500px;overflow:auto;\">\n",
       "<table border=\"1\" class=\"dataframe\">\n",
       "  <thead>\n",
       "    <tr style=\"text-align: right;\">\n",
       "      <th></th>\n",
       "      <th>87089</th>\n",
       "      <th>87104</th>\n",
       "      <th>87174</th>\n",
       "      <th>1</th>\n",
       "      <th>2</th>\n",
       "      <th>3</th>\n",
       "      <th>4</th>\n",
       "      <th>5</th>\n",
       "      <th>6</th>\n",
       "      <th>7</th>\n",
       "      <th>...</th>\n",
       "      <th>4107</th>\n",
       "      <th>4108</th>\n",
       "      <th>4109</th>\n",
       "      <th>4110</th>\n",
       "      <th>4111</th>\n",
       "      <th>4112</th>\n",
       "      <th>4113</th>\n",
       "      <th>4114</th>\n",
       "      <th>4115</th>\n",
       "      <th>4116</th>\n",
       "    </tr>\n",
       "  </thead>\n",
       "  <tbody>\n",
       "    <tr>\n",
       "      <th>87089</th>\n",
       "      <td>1.000000</td>\n",
       "      <td>0.209602</td>\n",
       "      <td>0.525007</td>\n",
       "      <td>0.274222</td>\n",
       "      <td>0.190722</td>\n",
       "      <td>0.229985</td>\n",
       "      <td>0.195432</td>\n",
       "      <td>0.241045</td>\n",
       "      <td>0.293587</td>\n",
       "      <td>0.175405</td>\n",
       "      <td>...</td>\n",
       "      <td>0.605147</td>\n",
       "      <td>0.174210</td>\n",
       "      <td>0.338865</td>\n",
       "      <td>0.256538</td>\n",
       "      <td>0.622171</td>\n",
       "      <td>0.586624</td>\n",
       "      <td>0.469827</td>\n",
       "      <td>0.224176</td>\n",
       "      <td>0.222271</td>\n",
       "      <td>0.238969</td>\n",
       "    </tr>\n",
       "    <tr>\n",
       "      <th>87104</th>\n",
       "      <td>0.209602</td>\n",
       "      <td>1.000000</td>\n",
       "      <td>0.248158</td>\n",
       "      <td>0.385932</td>\n",
       "      <td>0.476263</td>\n",
       "      <td>0.364043</td>\n",
       "      <td>0.474663</td>\n",
       "      <td>0.398877</td>\n",
       "      <td>0.461849</td>\n",
       "      <td>0.381612</td>\n",
       "      <td>...</td>\n",
       "      <td>0.247308</td>\n",
       "      <td>0.382061</td>\n",
       "      <td>0.353679</td>\n",
       "      <td>0.390456</td>\n",
       "      <td>0.198525</td>\n",
       "      <td>0.228648</td>\n",
       "      <td>0.433337</td>\n",
       "      <td>0.319600</td>\n",
       "      <td>0.334119</td>\n",
       "      <td>0.397161</td>\n",
       "    </tr>\n",
       "    <tr>\n",
       "      <th>87174</th>\n",
       "      <td>0.525007</td>\n",
       "      <td>0.248158</td>\n",
       "      <td>1.000000</td>\n",
       "      <td>0.200926</td>\n",
       "      <td>0.125795</td>\n",
       "      <td>0.258577</td>\n",
       "      <td>0.173068</td>\n",
       "      <td>0.234214</td>\n",
       "      <td>0.290222</td>\n",
       "      <td>0.064060</td>\n",
       "      <td>...</td>\n",
       "      <td>0.809760</td>\n",
       "      <td>0.155841</td>\n",
       "      <td>0.276300</td>\n",
       "      <td>0.243437</td>\n",
       "      <td>0.654787</td>\n",
       "      <td>0.557744</td>\n",
       "      <td>0.506956</td>\n",
       "      <td>0.159165</td>\n",
       "      <td>0.199759</td>\n",
       "      <td>0.250614</td>\n",
       "    </tr>\n",
       "    <tr>\n",
       "      <th>1</th>\n",
       "      <td>0.274222</td>\n",
       "      <td>0.385932</td>\n",
       "      <td>0.200926</td>\n",
       "      <td>1.000000</td>\n",
       "      <td>0.688397</td>\n",
       "      <td>0.379456</td>\n",
       "      <td>0.425319</td>\n",
       "      <td>0.521152</td>\n",
       "      <td>0.580955</td>\n",
       "      <td>0.603020</td>\n",
       "      <td>...</td>\n",
       "      <td>0.224596</td>\n",
       "      <td>0.442296</td>\n",
       "      <td>0.429897</td>\n",
       "      <td>0.391759</td>\n",
       "      <td>0.126504</td>\n",
       "      <td>0.297477</td>\n",
       "      <td>0.216115</td>\n",
       "      <td>0.357261</td>\n",
       "      <td>0.381710</td>\n",
       "      <td>0.387570</td>\n",
       "    </tr>\n",
       "    <tr>\n",
       "      <th>2</th>\n",
       "      <td>0.190722</td>\n",
       "      <td>0.476263</td>\n",
       "      <td>0.125795</td>\n",
       "      <td>0.688397</td>\n",
       "      <td>1.000000</td>\n",
       "      <td>0.433109</td>\n",
       "      <td>0.534954</td>\n",
       "      <td>0.548179</td>\n",
       "      <td>0.541592</td>\n",
       "      <td>0.653706</td>\n",
       "      <td>...</td>\n",
       "      <td>0.126229</td>\n",
       "      <td>0.489498</td>\n",
       "      <td>0.466691</td>\n",
       "      <td>0.448076</td>\n",
       "      <td>0.117846</td>\n",
       "      <td>0.222310</td>\n",
       "      <td>0.286067</td>\n",
       "      <td>0.421952</td>\n",
       "      <td>0.514599</td>\n",
       "      <td>0.430907</td>\n",
       "    </tr>\n",
       "  </tbody>\n",
       "</table>\n",
       "<p>5 rows × 4119 columns</p>\n",
       "</div>"
      ],
      "text/plain": [
       "          87089     87104     87174         1         2         3         4  \\\n",
       "87089  1.000000  0.209602  0.525007  0.274222  0.190722  0.229985  0.195432   \n",
       "87104  0.209602  1.000000  0.248158  0.385932  0.476263  0.364043  0.474663   \n",
       "87174  0.525007  0.248158  1.000000  0.200926  0.125795  0.258577  0.173068   \n",
       "1      0.274222  0.385932  0.200926  1.000000  0.688397  0.379456  0.425319   \n",
       "2      0.190722  0.476263  0.125795  0.688397  1.000000  0.433109  0.534954   \n",
       "\n",
       "              5         6         7    ...         4107      4108      4109  \\\n",
       "87089  0.241045  0.293587  0.175405    ...     0.605147  0.174210  0.338865   \n",
       "87104  0.398877  0.461849  0.381612    ...     0.247308  0.382061  0.353679   \n",
       "87174  0.234214  0.290222  0.064060    ...     0.809760  0.155841  0.276300   \n",
       "1      0.521152  0.580955  0.603020    ...     0.224596  0.442296  0.429897   \n",
       "2      0.548179  0.541592  0.653706    ...     0.126229  0.489498  0.466691   \n",
       "\n",
       "           4110      4111      4112      4113      4114      4115      4116  \n",
       "87089  0.256538  0.622171  0.586624  0.469827  0.224176  0.222271  0.238969  \n",
       "87104  0.390456  0.198525  0.228648  0.433337  0.319600  0.334119  0.397161  \n",
       "87174  0.243437  0.654787  0.557744  0.506956  0.159165  0.199759  0.250614  \n",
       "1      0.391759  0.126504  0.297477  0.216115  0.357261  0.381710  0.387570  \n",
       "2      0.448076  0.117846  0.222310  0.286067  0.421952  0.514599  0.430907  \n",
       "\n",
       "[5 rows x 4119 columns]"
      ]
     },
     "execution_count": 85,
     "metadata": {},
     "output_type": "execute_result"
    }
   ],
   "source": [
    "mislabled_id.iloc[3:,:4].plot(kind='hist',bins = 30)"
   ]
  },
  {
   "cell_type": "code",
   "execution_count": 114,
   "metadata": {
    "collapsed": false
   },
   "outputs": [
    {
     "name": "stdout",
     "output_type": "stream",
     "text": [
      "105 0.418330013267\n",
      "155 0.4180147575\n",
      "1365 0.4180147575\n",
      "1378 0.4180147575\n",
      "1443 0.4180147575\n",
      "1632 0.475167309614\n",
      "1639 0.475167309614\n",
      "1843 0.446816601551\n",
      "1880 0.497955001655\n",
      "1893 0.491952037014\n",
      "1941 0.42761798706\n",
      "1942 0.42761798706\n",
      "1943 0.42761798706\n",
      "1953 0.475167309614\n",
      "1954 0.410714285714\n",
      "1955 0.410714285714\n",
      "1963 0.485504156228\n",
      "1964 0.485504156228\n",
      "1965 0.485504156228\n",
      "1966 0.485504156228\n",
      "1968 0.485504156228\n",
      "1969 0.446816601551\n",
      "2226 0.453562273665\n",
      "2641 0.409419737034\n",
      "3117 0.514443402768\n",
      "3210 0.485504156228\n",
      "3570 0.525657483038\n",
      "4056 0.525657483038\n",
      "4099 0.436785348634\n"
     ]
    }
   ],
   "source": [
    "for i in range(4119):\n",
    "    pop = high_acc_20['86883'].corr(all_imputed_dos.iloc[i])\n",
    "    if pop > .4:\n",
    "        print i, pop"
   ]
  },
  {
   "cell_type": "code",
   "execution_count": 112,
   "metadata": {
    "collapsed": false
   },
   "outputs": [
    {
     "data": {
      "text/plain": [
       "(40000, 4116)"
      ]
     },
     "execution_count": 112,
     "metadata": {},
     "output_type": "execute_result"
    }
   ],
   "source": [
    "all_imputed_dos.shape"
   ]
  },
  {
   "cell_type": "code",
   "execution_count": 213,
   "metadata": {
    "collapsed": false
   },
   "outputs": [
    {
     "name": "stdout",
     "output_type": "stream",
     "text": [
      "/data/jhoff/Imputation/accuracycheck/imputation-pipelines\r\n"
     ]
    }
   ],
   "source": [
    "! pwd"
   ]
  },
  {
   "cell_type": "code",
   "execution_count": null,
   "metadata": {
    "collapsed": true
   },
   "outputs": [],
   "source": []
  }
 ],
 "metadata": {
  "kernelspec": {
   "display_name": "Python 2",
   "language": "python",
   "name": "python2"
  },
  "language_info": {
   "codemirror_mode": {
    "name": "ipython",
    "version": 2
   },
   "file_extension": ".py",
   "mimetype": "text/x-python",
   "name": "python",
   "nbconvert_exporter": "python",
   "pygments_lexer": "ipython2",
   "version": "2.7.9"
  }
 },
 "nbformat": 4,
 "nbformat_minor": 0
}
