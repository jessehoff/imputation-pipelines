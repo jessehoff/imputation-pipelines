{
 "cells": [
  {
   "cell_type": "code",
   "execution_count": 1,
   "metadata": {
    "collapsed": false
   },
   "outputs": [],
   "source": [
    "import pandas as pd\n",
    "import numpy as np\n",
    "from pandas import DataFrame\n",
    "from pandas import Series\n",
    "import matplotlib.pyplot as plt\n",
    "%matplotlib inline \n",
    "plt.style.use('ggplot')\n",
    "import seaborn as sns\n",
    "\n"
   ]
  },
  {
   "cell_type": "code",
   "execution_count": 4,
   "metadata": {
    "collapsed": false
   },
   "outputs": [
    {
     "data": {
      "text/plain": [
       "['contig,bta,chr_pos,ref_base,variant1,variant2,gene,transcript,feature_type,cds,ref_aa,alt_aa,aa_pos,sift,num_homd,num_het,num_uncovered,freq_r,freq_d,maf,heterozygosity,chi_squared,hwe_p,changed,num_variants,num_variants_10bp,num_variants_50bp,transcript_biotype,ensembl_ncid,l_986,l_1051,l_1510,l_2081,l_18490,l_23048,l_23200,l_47325,l_78648,l_78757,l_78773,l_78827,l_78836,l_78853,l_79050,l_79160,l_79488,l_79863,l_79971,l_80134,l_80163,l_80421,l_80427,l_80609,l_80636,l_82366,l_86883,l_86953,l_86954,l_86956,l_87024,l_87089,l_87104,l_87174,l_87267,l_87309,l_87335,l_87398',\n",
       " 'NW_003065662.1,8,2553,T,G,N,,,,,,,,,23,131,1,0.635802,0.364198,0.364198,0.539095,6.54061,6.33425e-05,,1,2,6,,,1,,,2,,1,,1,,1,1,,,,,1,2,,1,1,,,1,,,1,1,,1,,,,2,1,,,1,1',\n",
       " 'NW_003065662.1,8,2572,A,T,N,,,,,,,,,0,16,1,0.967078,0.0329218,0.0329218,0.0658436,0.281612,0.777297411,,1,1,6,,,,,,,,,,,,,,1,,,,,,,,,,1,1,,,,,,,,,,,,,1,,',\n",
       " 'NW_003065662.1,8,3004,T,C,N,,,,,,,,,0,14,0,0.971311,0.0286885,0.0286885,0.057377,0.212858,1,,1,1,4,,,,,,,,1,,,,,,,1,,,,,,,,,,,,,1,1,,,,,,,,,,,',\n",
       " 'NW_003065662.1,8,3294,A,G,N,,,,,,,,,0,5,0,0.989754,0.0102459,0.0102459,0.0204918,0.0261478,1,,1,2,6,,,,,,,,,,,,,,,,,,,,,,,,,,,,,,,,,,,,,,,,',\n",
       " 'NW_003065662.1,8,3355,G,A,N,,,,,,,,,0,22,0,0.954918,0.045082,0.045082,0.0901639,0.54383,0.79133678,,1,1,4,,,,,,,,,,,1,,,,,,,,,,,,,,1,,,,,,,,,,,,,,,',\n",
       " 'NW_003065662.1,8,3365,A,G,N,,,,,,,,,0,2,0,0.995902,0.00409836,0.00409836,0.00819672,0.00413216,1,,1,1,4,,,,,,,,,,,,,,,,,,,,,,,,,,,,,,,,,,,,,,,,',\n",
       " 'NW_003065662.1,8,4503,G,A,N,,,,,,,,,0,8,0,0.983607,0.0163934,0.0163934,0.0327869,0.0677778,1,,1,2,5,,,,,,,,,,,,,,,,,,,1,,,,,,,,,,,,,,1,,,,,,,',\n",
       " 'NW_003065662.1,8,4535,C,G,N,,,,,,,,,0,12,0,0.97541,0.0245902,0.0245902,0.0491803,0.155074,0.654720846,,1,1,5,,,,,,,,,,,,,,,,,,,,,,,,,,,,,,,,,,,,,,,,',\n",
       " 'NW_003065662.1,8,4602,G,A,N,,,,,,,,,1,2,3,0.991701,0.00829876,0.00829876,0.00829876,59.2458,1,,1,3,7,,,,,,,,,,2,,,,,,,,,,,,,,,,0,,,,,,,,,,1,,,1,']"
      ]
     },
     "execution_count": 4,
     "metadata": {},
     "output_type": "execute_result"
    }
   ],
   "source": [
    "!! head test_head_del.csv"
   ]
  },
  {
   "cell_type": "code",
   "execution_count": 97,
   "metadata": {
    "collapsed": false
   },
   "outputs": [],
   "source": [
    "chr20 = pd.read_csv('umc_ho_sgen_20.csv',nrows=20,usecols=[2] + range(29,67),index_col=0)"
   ]
  },
  {
   "cell_type": "code",
   "execution_count": 98,
   "metadata": {
    "collapsed": false
   },
   "outputs": [
    {
     "data": {
      "text/html": [
       "<div style=\"max-height:1000px;max-width:1500px;overflow:auto;\">\n",
       "<table border=\"1\" class=\"dataframe\">\n",
       "  <thead>\n",
       "    <tr style=\"text-align: right;\">\n",
       "      <th></th>\n",
       "      <th>l_986</th>\n",
       "      <th>l_1051</th>\n",
       "      <th>l_1510</th>\n",
       "      <th>l_2081</th>\n",
       "      <th>l_18490</th>\n",
       "      <th>l_23048</th>\n",
       "      <th>l_23200</th>\n",
       "      <th>l_47325</th>\n",
       "      <th>l_78648</th>\n",
       "      <th>l_78757</th>\n",
       "      <th>...</th>\n",
       "      <th>l_86954</th>\n",
       "      <th>l_86956</th>\n",
       "      <th>l_87024</th>\n",
       "      <th>l_87089</th>\n",
       "      <th>l_87104</th>\n",
       "      <th>l_87174</th>\n",
       "      <th>l_87267</th>\n",
       "      <th>l_87309</th>\n",
       "      <th>l_87335</th>\n",
       "      <th>l_87398</th>\n",
       "    </tr>\n",
       "    <tr>\n",
       "      <th>chr_pos</th>\n",
       "      <th></th>\n",
       "      <th></th>\n",
       "      <th></th>\n",
       "      <th></th>\n",
       "      <th></th>\n",
       "      <th></th>\n",
       "      <th></th>\n",
       "      <th></th>\n",
       "      <th></th>\n",
       "      <th></th>\n",
       "      <th></th>\n",
       "      <th></th>\n",
       "      <th></th>\n",
       "      <th></th>\n",
       "      <th></th>\n",
       "      <th></th>\n",
       "      <th></th>\n",
       "      <th></th>\n",
       "      <th></th>\n",
       "      <th></th>\n",
       "      <th></th>\n",
       "    </tr>\n",
       "  </thead>\n",
       "  <tbody>\n",
       "    <tr>\n",
       "      <th>821</th>\n",
       "      <td>NaN</td>\n",
       "      <td>1</td>\n",
       "      <td>NaN</td>\n",
       "      <td>NaN</td>\n",
       "      <td>2</td>\n",
       "      <td>1</td>\n",
       "      <td>NaN</td>\n",
       "      <td>1</td>\n",
       "      <td>NaN</td>\n",
       "      <td>1</td>\n",
       "      <td>...</td>\n",
       "      <td>NaN</td>\n",
       "      <td>1</td>\n",
       "      <td>1</td>\n",
       "      <td>1</td>\n",
       "      <td>NaN</td>\n",
       "      <td>1</td>\n",
       "      <td>1</td>\n",
       "      <td>NaN</td>\n",
       "      <td>NaN</td>\n",
       "      <td>NaN</td>\n",
       "    </tr>\n",
       "    <tr>\n",
       "      <th>871</th>\n",
       "      <td>0</td>\n",
       "      <td>NaN</td>\n",
       "      <td>NaN</td>\n",
       "      <td>NaN</td>\n",
       "      <td>0</td>\n",
       "      <td>NaN</td>\n",
       "      <td>NaN</td>\n",
       "      <td>NaN</td>\n",
       "      <td>1</td>\n",
       "      <td>1</td>\n",
       "      <td>...</td>\n",
       "      <td>NaN</td>\n",
       "      <td>1</td>\n",
       "      <td>1</td>\n",
       "      <td>1</td>\n",
       "      <td>1</td>\n",
       "      <td>NaN</td>\n",
       "      <td>NaN</td>\n",
       "      <td>1</td>\n",
       "      <td>1</td>\n",
       "      <td>1</td>\n",
       "    </tr>\n",
       "    <tr>\n",
       "      <th>896</th>\n",
       "      <td>0</td>\n",
       "      <td>1</td>\n",
       "      <td>NaN</td>\n",
       "      <td>2</td>\n",
       "      <td>0</td>\n",
       "      <td>NaN</td>\n",
       "      <td>NaN</td>\n",
       "      <td>1</td>\n",
       "      <td>NaN</td>\n",
       "      <td>2</td>\n",
       "      <td>...</td>\n",
       "      <td>2</td>\n",
       "      <td>1</td>\n",
       "      <td>NaN</td>\n",
       "      <td>1</td>\n",
       "      <td>1</td>\n",
       "      <td>2</td>\n",
       "      <td>1</td>\n",
       "      <td>1</td>\n",
       "      <td>1</td>\n",
       "      <td>1</td>\n",
       "    </tr>\n",
       "    <tr>\n",
       "      <th>1114</th>\n",
       "      <td>NaN</td>\n",
       "      <td>NaN</td>\n",
       "      <td>0</td>\n",
       "      <td>0</td>\n",
       "      <td>0</td>\n",
       "      <td>0</td>\n",
       "      <td>NaN</td>\n",
       "      <td>NaN</td>\n",
       "      <td>NaN</td>\n",
       "      <td>NaN</td>\n",
       "      <td>...</td>\n",
       "      <td>NaN</td>\n",
       "      <td>NaN</td>\n",
       "      <td>NaN</td>\n",
       "      <td>NaN</td>\n",
       "      <td>1</td>\n",
       "      <td>NaN</td>\n",
       "      <td>NaN</td>\n",
       "      <td>NaN</td>\n",
       "      <td>NaN</td>\n",
       "      <td>NaN</td>\n",
       "    </tr>\n",
       "    <tr>\n",
       "      <th>1328</th>\n",
       "      <td>NaN</td>\n",
       "      <td>NaN</td>\n",
       "      <td>NaN</td>\n",
       "      <td>0</td>\n",
       "      <td>NaN</td>\n",
       "      <td>NaN</td>\n",
       "      <td>1</td>\n",
       "      <td>NaN</td>\n",
       "      <td>1</td>\n",
       "      <td>1</td>\n",
       "      <td>...</td>\n",
       "      <td>1</td>\n",
       "      <td>1</td>\n",
       "      <td>1</td>\n",
       "      <td>1</td>\n",
       "      <td>1</td>\n",
       "      <td>2</td>\n",
       "      <td>1</td>\n",
       "      <td>1</td>\n",
       "      <td>1</td>\n",
       "      <td>1</td>\n",
       "    </tr>\n",
       "  </tbody>\n",
       "</table>\n",
       "<p>5 rows × 38 columns</p>\n",
       "</div>"
      ],
      "text/plain": [
       "         l_986  l_1051  l_1510  l_2081  l_18490  l_23048  l_23200  l_47325  \\\n",
       "chr_pos                                                                      \n",
       "821        NaN       1     NaN     NaN        2        1      NaN        1   \n",
       "871          0     NaN     NaN     NaN        0      NaN      NaN      NaN   \n",
       "896          0       1     NaN       2        0      NaN      NaN        1   \n",
       "1114       NaN     NaN       0       0        0        0      NaN      NaN   \n",
       "1328       NaN     NaN     NaN       0      NaN      NaN        1      NaN   \n",
       "\n",
       "         l_78648  l_78757   ...     l_86954  l_86956  l_87024  l_87089  \\\n",
       "chr_pos                     ...                                          \n",
       "821          NaN        1   ...         NaN        1        1        1   \n",
       "871            1        1   ...         NaN        1        1        1   \n",
       "896          NaN        2   ...           2        1      NaN        1   \n",
       "1114         NaN      NaN   ...         NaN      NaN      NaN      NaN   \n",
       "1328           1        1   ...           1        1        1        1   \n",
       "\n",
       "         l_87104  l_87174  l_87267  l_87309  l_87335  l_87398  \n",
       "chr_pos                                                        \n",
       "821          NaN        1        1      NaN      NaN      NaN  \n",
       "871            1      NaN      NaN        1        1        1  \n",
       "896            1        2        1        1        1        1  \n",
       "1114           1      NaN      NaN      NaN      NaN      NaN  \n",
       "1328           1        2        1        1        1        1  \n",
       "\n",
       "[5 rows x 38 columns]"
      ]
     },
     "execution_count": 98,
     "metadata": {},
     "output_type": "execute_result"
    }
   ],
   "source": [
    "chr20.head()"
   ]
  },
  {
   "cell_type": "code",
   "execution_count": 99,
   "metadata": {
    "collapsed": false
   },
   "outputs": [
    {
     "data": {
      "text/html": [
       "<div style=\"max-height:1000px;max-width:1500px;overflow:auto;\">\n",
       "<table border=\"1\" class=\"dataframe\">\n",
       "  <thead>\n",
       "    <tr style=\"text-align: right;\">\n",
       "      <th>chr_pos</th>\n",
       "      <th>821</th>\n",
       "      <th>871</th>\n",
       "      <th>896</th>\n",
       "      <th>1114</th>\n",
       "      <th>1328</th>\n",
       "      <th>1669</th>\n",
       "      <th>1677</th>\n",
       "      <th>1695</th>\n",
       "      <th>1713</th>\n",
       "      <th>1727</th>\n",
       "      <th>1768</th>\n",
       "      <th>1788</th>\n",
       "      <th>1793</th>\n",
       "      <th>1803</th>\n",
       "      <th>1826</th>\n",
       "      <th>1858</th>\n",
       "      <th>1963</th>\n",
       "      <th>3260</th>\n",
       "      <th>3453</th>\n",
       "      <th>3521</th>\n",
       "    </tr>\n",
       "  </thead>\n",
       "  <tbody>\n",
       "    <tr>\n",
       "      <th>986</th>\n",
       "      <td>NaN</td>\n",
       "      <td>0</td>\n",
       "      <td>0</td>\n",
       "      <td>NaN</td>\n",
       "      <td>NaN</td>\n",
       "      <td>1</td>\n",
       "      <td>1</td>\n",
       "      <td>NaN</td>\n",
       "      <td>NaN</td>\n",
       "      <td>NaN</td>\n",
       "      <td>NaN</td>\n",
       "      <td>NaN</td>\n",
       "      <td>1</td>\n",
       "      <td>NaN</td>\n",
       "      <td>NaN</td>\n",
       "      <td>NaN</td>\n",
       "      <td>NaN</td>\n",
       "      <td>NaN</td>\n",
       "      <td>NaN</td>\n",
       "      <td>1</td>\n",
       "    </tr>\n",
       "    <tr>\n",
       "      <th>1051</th>\n",
       "      <td>1</td>\n",
       "      <td>NaN</td>\n",
       "      <td>1</td>\n",
       "      <td>NaN</td>\n",
       "      <td>NaN</td>\n",
       "      <td>1</td>\n",
       "      <td>1</td>\n",
       "      <td>NaN</td>\n",
       "      <td>NaN</td>\n",
       "      <td>NaN</td>\n",
       "      <td>NaN</td>\n",
       "      <td>NaN</td>\n",
       "      <td>NaN</td>\n",
       "      <td>NaN</td>\n",
       "      <td>NaN</td>\n",
       "      <td>NaN</td>\n",
       "      <td>1</td>\n",
       "      <td>NaN</td>\n",
       "      <td>NaN</td>\n",
       "      <td>NaN</td>\n",
       "    </tr>\n",
       "    <tr>\n",
       "      <th>1510</th>\n",
       "      <td>NaN</td>\n",
       "      <td>NaN</td>\n",
       "      <td>NaN</td>\n",
       "      <td>0</td>\n",
       "      <td>NaN</td>\n",
       "      <td>NaN</td>\n",
       "      <td>NaN</td>\n",
       "      <td>NaN</td>\n",
       "      <td>NaN</td>\n",
       "      <td>NaN</td>\n",
       "      <td>NaN</td>\n",
       "      <td>NaN</td>\n",
       "      <td>NaN</td>\n",
       "      <td>NaN</td>\n",
       "      <td>NaN</td>\n",
       "      <td>NaN</td>\n",
       "      <td>NaN</td>\n",
       "      <td>NaN</td>\n",
       "      <td>NaN</td>\n",
       "      <td>NaN</td>\n",
       "    </tr>\n",
       "    <tr>\n",
       "      <th>2081</th>\n",
       "      <td>NaN</td>\n",
       "      <td>NaN</td>\n",
       "      <td>2</td>\n",
       "      <td>0</td>\n",
       "      <td>0</td>\n",
       "      <td>1</td>\n",
       "      <td>1</td>\n",
       "      <td>NaN</td>\n",
       "      <td>NaN</td>\n",
       "      <td>NaN</td>\n",
       "      <td>NaN</td>\n",
       "      <td>NaN</td>\n",
       "      <td>NaN</td>\n",
       "      <td>NaN</td>\n",
       "      <td>NaN</td>\n",
       "      <td>1</td>\n",
       "      <td>1</td>\n",
       "      <td>NaN</td>\n",
       "      <td>NaN</td>\n",
       "      <td>NaN</td>\n",
       "    </tr>\n",
       "    <tr>\n",
       "      <th>18490</th>\n",
       "      <td>2</td>\n",
       "      <td>0</td>\n",
       "      <td>0</td>\n",
       "      <td>0</td>\n",
       "      <td>NaN</td>\n",
       "      <td>1</td>\n",
       "      <td>1</td>\n",
       "      <td>NaN</td>\n",
       "      <td>NaN</td>\n",
       "      <td>NaN</td>\n",
       "      <td>NaN</td>\n",
       "      <td>NaN</td>\n",
       "      <td>NaN</td>\n",
       "      <td>NaN</td>\n",
       "      <td>NaN</td>\n",
       "      <td>1</td>\n",
       "      <td>1</td>\n",
       "      <td>NaN</td>\n",
       "      <td>NaN</td>\n",
       "      <td>NaN</td>\n",
       "    </tr>\n",
       "  </tbody>\n",
       "</table>\n",
       "</div>"
      ],
      "text/plain": [
       "chr_pos  821   871   896   1114  1328  1669  1677  1695  1713  1727  1768  \\\n",
       "986       NaN     0     0   NaN   NaN     1     1   NaN   NaN   NaN   NaN   \n",
       "1051        1   NaN     1   NaN   NaN     1     1   NaN   NaN   NaN   NaN   \n",
       "1510      NaN   NaN   NaN     0   NaN   NaN   NaN   NaN   NaN   NaN   NaN   \n",
       "2081      NaN   NaN     2     0     0     1     1   NaN   NaN   NaN   NaN   \n",
       "18490       2     0     0     0   NaN     1     1   NaN   NaN   NaN   NaN   \n",
       "\n",
       "chr_pos  1788  1793  1803  1826  1858  1963  3260  3453  3521  \n",
       "986       NaN     1   NaN   NaN   NaN   NaN   NaN   NaN     1  \n",
       "1051      NaN   NaN   NaN   NaN   NaN     1   NaN   NaN   NaN  \n",
       "1510      NaN   NaN   NaN   NaN   NaN   NaN   NaN   NaN   NaN  \n",
       "2081      NaN   NaN   NaN   NaN     1     1   NaN   NaN   NaN  \n",
       "18490     NaN   NaN   NaN   NaN     1     1   NaN   NaN   NaN  "
      ]
     },
     "execution_count": 99,
     "metadata": {},
     "output_type": "execute_result"
    }
   ],
   "source": [
    "chr20.columns= chr20.columns.str.lstrip('l_')\n",
    "chr20=chr20.transpose()\n",
    "chr20.head()"
   ]
  },
  {
   "cell_type": "code",
   "execution_count": 100,
   "metadata": {
    "collapsed": false
   },
   "outputs": [],
   "source": [
    "idsf = open( '../HO_5265_Imputed/HO_5264_IDS','r')\n",
    "idlist = [i.strip() for i in idsf]\n",
    "idtrimlist =  [i[3:-1].lstrip('0') for i in idlist[1147:] if (len(i) ==9) & (i.startswith('20'))]\n",
    "idshorts = [i for i in idlist[1147:] if len(i) !=9]\n",
    "idall = idlist[:1147] + idtrimlist + idshorts\n",
    "ids = pd.DataFrame(idlist,index=idall)\n",
    "ids.head()\n",
    "ids['num'] = np.arange(ids.shape[0])\n",
    "ids.iloc[1146:1156]\n",
    "mu_ids = ids.iloc[1147:]\n",
    "impute_ids =mu_ids.index.tolist()\n",
    "#a data frame indexed on the 'lab id' and containing the     "
   ]
  },
  {
   "cell_type": "code",
   "execution_count": 136,
   "metadata": {
    "collapsed": false
   },
   "outputs": [
    {
     "data": {
      "text/html": [
       "<div style=\"max-height:1000px;max-width:1500px;overflow:auto;\">\n",
       "<table border=\"1\" class=\"dataframe\">\n",
       "  <thead>\n",
       "    <tr style=\"text-align: right;\">\n",
       "      <th></th>\n",
       "      <th>0</th>\n",
       "      <th>num</th>\n",
       "    </tr>\n",
       "  </thead>\n",
       "  <tbody>\n",
       "    <tr>\n",
       "      <th>200008890</th>\n",
       "      <td>200008890</td>\n",
       "      <td>0</td>\n",
       "    </tr>\n",
       "    <tr>\n",
       "      <th>200008900</th>\n",
       "      <td>200008900</td>\n",
       "      <td>1</td>\n",
       "    </tr>\n",
       "    <tr>\n",
       "      <th>200008940</th>\n",
       "      <td>200008940</td>\n",
       "      <td>2</td>\n",
       "    </tr>\n",
       "    <tr>\n",
       "      <th>200009100</th>\n",
       "      <td>200009100</td>\n",
       "      <td>3</td>\n",
       "    </tr>\n",
       "    <tr>\n",
       "      <th>200009110</th>\n",
       "      <td>200009110</td>\n",
       "      <td>4</td>\n",
       "    </tr>\n",
       "  </tbody>\n",
       "</table>\n",
       "</div>"
      ],
      "text/plain": [
       "                   0  num\n",
       "200008890  200008890    0\n",
       "200008900  200008900    1\n",
       "200008940  200008940    2\n",
       "200009100  200009100    3\n",
       "200009110  200009110    4"
      ]
     },
     "execution_count": 136,
     "metadata": {},
     "output_type": "execute_result"
    }
   ],
   "source": [
    "idsf = open('../HO_5265_Imputed/HO_imputed_filtered_4116_ids.txt')\n",
    "idlist = idsf.readline().split(',')\n",
    "idtrimlist =  [i[3:-1].lstrip('0') for i in idlist[1147:] if (len(i) ==9) & (i.startswith('20'))]\n",
    "idshorts = [i for i in idlist[1147:] if len(i) !=9]\n",
    "idall = idlist[:1147] + idtrimlist + idshorts\n",
    "ids2 = pd.DataFrame(idlist,index=idall)\n",
    "ids2['num'] = np.arange(ids2.shape[0])\n",
    "impute_ids =ids2.index.tolist()\n",
    "ids2.head()"
   ]
  },
  {
   "cell_type": "code",
   "execution_count": 137,
   "metadata": {
    "collapsed": false
   },
   "outputs": [
    {
     "name": "stdout",
     "output_type": "stream",
     "text": [
      "Index([u'986', u'1051', u'1510', u'2081', u'18490', u'23048', u'23200',\n",
      "       u'47325', u'78648', u'78757', u'78773', u'78827', u'78836', u'78853',\n",
      "       u'79050', u'79160', u'79488', u'79863', u'79971', u'80134', u'80163',\n",
      "       u'80421', u'80427', u'80609', u'80636', u'82366', u'86883', u'86953',\n",
      "       u'86954', u'86956', u'87024', u'87089', u'87104', u'87174', u'87267',\n",
      "       u'87309', u'87335', u'87398'],\n",
      "      dtype='object', name=u'lab_id')\n"
     ]
    },
    {
     "data": {
      "text/plain": [
       "Index([u'200008890', u'200008900', u'200008940', u'200009100', u'200009110',\n",
       "       u'200009130', u'200009140', u'200009150', u'200009170', u'200009180', \n",
       "       ...\n",
       "       u'9065', u'9067', u'9068', u'9069', u'9070', u'9071', u'9072', u'9073',\n",
       "       u'9074', u'9075\\n'],\n",
       "      dtype='object', length=4116)"
      ]
     },
     "execution_count": 137,
     "metadata": {},
     "output_type": "execute_result"
    }
   ],
   "source": [
    "chr20.index=chr20.index.astype('str')\n",
    "chr20.index.name= 'lab_id'\n",
    "print chr20.index\n",
    "ids2.index=ids2.index.astype('str')\n",
    "ids2.index\n"
   ]
  },
  {
   "cell_type": "code",
   "execution_count": 138,
   "metadata": {
    "collapsed": false
   },
   "outputs": [
    {
     "name": "stdout",
     "output_type": "stream",
     "text": [
      "Index([u'78648', u'78757', u'78773', u'78827', u'78836', u'78853', u'79050',\n",
      "       u'79160', u'79488', u'79863', u'79971', u'80134', u'80163', u'80421',\n",
      "       u'80427', u'80609', u'80636', u'82366', u'86883', u'86953', u'86954',\n",
      "       u'86956', u'87024', u'87089', u'87104', u'87174', u'87267', u'87309',\n",
      "       u'87335', u'87398'],\n",
      "      dtype='object')\n"
     ]
    }
   ],
   "source": [
    "testanimals = ids.index.intersection(\n",
    "    chr20.index)\n",
    "print testanimals\n",
    "testing_code = ids.loc[testanimals]\n",
    "shared_ids = testanimals.tolist()\n",
    "#shared_ids"
   ]
  },
  {
   "cell_type": "code",
   "execution_count": 139,
   "metadata": {
    "collapsed": false
   },
   "outputs": [
    {
     "data": {
      "text/plain": [
       "[1514, 2671, 2701, 2149, 1409, 2419, 1162, 2120, 1447, 2102]"
      ]
     },
     "execution_count": 139,
     "metadata": {},
     "output_type": "execute_result"
    }
   ],
   "source": [
    "columns_of_tested=testing_code['num'].tolist()\n",
    "columns_of_tested[:10]\n",
    "#this is the potential off by one"
   ]
  },
  {
   "cell_type": "code",
   "execution_count": 140,
   "metadata": {
    "collapsed": false
   },
   "outputs": [
    {
     "name": "stdout",
     "output_type": "stream",
     "text": [
      "['78648', '78757', '78773', '78827', '78836', '78853', '79050', '79160', '79488', '79863']\n",
      "4117\n"
     ]
    },
    {
     "data": {
      "text/plain": [
       "['pos',\n",
       " '78648',\n",
       " '78757',\n",
       " '78773',\n",
       " '78827',\n",
       " '78836',\n",
       " '78853',\n",
       " '79050',\n",
       " '79160',\n",
       " '79488',\n",
       " '79863']"
      ]
     },
     "execution_count": 140,
     "metadata": {},
     "output_type": "execute_result"
    }
   ],
   "source": [
    "print shared_ids[:10]\n",
    "print len(['pos']+impute_ids)\n",
    "['pos'] + shared_ids[:10]"
   ]
  },
  {
   "cell_type": "code",
   "execution_count": 148,
   "metadata": {
    "collapsed": false
   },
   "outputs": [
    {
     "data": {
      "text/plain": [
       "pos\n",
       "821         1\n",
       "871         2\n",
       "896         2\n",
       "1105        2\n",
       "1172        0\n",
       "1677        0\n",
       "1713        1\n",
       "1768        0\n",
       "1793        1\n",
       "1858        1\n",
       "1963        2\n",
       "3629        0\n",
       "4225        1\n",
       "4522        1\n",
       "6991        1\n",
       "8977        0\n",
       "9324        0\n",
       "9339        0\n",
       "11035       1\n",
       "11516       1\n",
       "11578       1\n",
       "11937       0\n",
       "13290       1\n",
       "13464       0\n",
       "13881       1\n",
       "14282       1\n",
       "14727       0\n",
       "14749       0\n",
       "15082       0\n",
       "15251       0\n",
       "           ..\n",
       "72025067    1\n",
       "72025863    0\n",
       "72026555    1\n",
       "72027601    1\n",
       "72028877    2\n",
       "72034102    0\n",
       "72034186    0\n",
       "72034190    1\n",
       "72034220    0\n",
       "72034259    0\n",
       "72034266    0\n",
       "72034279    1\n",
       "72034317    0\n",
       "72034327    1\n",
       "72034355    0\n",
       "72034366    0\n",
       "72034376    0\n",
       "72034382    0\n",
       "72034394    0\n",
       "72034406    1\n",
       "72034415    0\n",
       "72034502    0\n",
       "72036012    0\n",
       "72036199    0\n",
       "72036238    0\n",
       "72036273    0\n",
       "72036624    0\n",
       "72036682    0\n",
       "72036725    0\n",
       "72036737    1\n",
       "Name: 79050, dtype: float64"
      ]
     },
     "execution_count": 148,
     "metadata": {},
     "output_type": "execute_result"
    }
   ],
   "source": [
    "imputed_dos_chr20 = pd.read_csv('../HO_5265_Imputed/Chr20HO_2step_1kbull.dosage.txt.gz',\n",
    "                                compression= 'gzip',\n",
    "                                header=None,names=['pos']+ impute_ids,\n",
    "                                usecols=['pos']+shared_ids,index_col=0)\n",
    "imputed_dos_chr20.head()\n",
    "#imputed_dos_chr20['79050']\n",
    "#imputed_dos_shared = imputed_dos_chr20[shared_ids]\n",
    "#imputed_dos_chr20.index=idcolumns.iloc[:,0].tolist()"
   ]
  },
  {
   "cell_type": "code",
   "execution_count": null,
   "metadata": {
    "collapsed": false
   },
   "outputs": [],
   "source": [
    "imputed_dos_ot = pd.read_csv('../HO_5265_Imputed/Chr20HO_2step_1kbull.dosage.txt.gz',\n",
    "                                compression= 'gzip',\n",
    "                                header=None,names= impute_ids,\n",
    "                                nrows=10)\n",
    "\n",
    "imputed_dos_shared = imputed_dos_ot[shared_ids]\n",
    "imputed_dos_shared['79050']\n",
    "#imputed_dos_ot.head()"
   ]
  },
  {
   "cell_type": "code",
   "execution_count": 91,
   "metadata": {
    "collapsed": false
   },
   "outputs": [
    {
     "data": {
      "text/html": [
       "<div style=\"max-height:1000px;max-width:1500px;overflow:auto;\">\n",
       "<table border=\"1\" class=\"dataframe\">\n",
       "  <thead>\n",
       "    <tr style=\"text-align: right;\">\n",
       "      <th></th>\n",
       "      <th>0</th>\n",
       "      <th>1</th>\n",
       "      <th>2</th>\n",
       "      <th>3</th>\n",
       "      <th>4</th>\n",
       "      <th>5</th>\n",
       "      <th>6</th>\n",
       "      <th>7</th>\n",
       "      <th>8</th>\n",
       "      <th>9</th>\n",
       "      <th>...</th>\n",
       "      <th>4107</th>\n",
       "      <th>4108</th>\n",
       "      <th>4109</th>\n",
       "      <th>4110</th>\n",
       "      <th>4111</th>\n",
       "      <th>4112</th>\n",
       "      <th>4113</th>\n",
       "      <th>4114</th>\n",
       "      <th>4115</th>\n",
       "      <th>4116</th>\n",
       "    </tr>\n",
       "  </thead>\n",
       "  <tbody>\n",
       "    <tr>\n",
       "      <th>0</th>\n",
       "      <td>821</td>\n",
       "      <td>1</td>\n",
       "      <td>0</td>\n",
       "      <td>1</td>\n",
       "      <td>1</td>\n",
       "      <td>0</td>\n",
       "      <td>1</td>\n",
       "      <td>0</td>\n",
       "      <td>1</td>\n",
       "      <td>0</td>\n",
       "      <td>...</td>\n",
       "      <td>1</td>\n",
       "      <td>1</td>\n",
       "      <td>0</td>\n",
       "      <td>0</td>\n",
       "      <td>0</td>\n",
       "      <td>0</td>\n",
       "      <td>0</td>\n",
       "      <td>0</td>\n",
       "      <td>0</td>\n",
       "      <td>0</td>\n",
       "    </tr>\n",
       "    <tr>\n",
       "      <th>1</th>\n",
       "      <td>871</td>\n",
       "      <td>2</td>\n",
       "      <td>1</td>\n",
       "      <td>0</td>\n",
       "      <td>1</td>\n",
       "      <td>0</td>\n",
       "      <td>2</td>\n",
       "      <td>0</td>\n",
       "      <td>2</td>\n",
       "      <td>0</td>\n",
       "      <td>...</td>\n",
       "      <td>1</td>\n",
       "      <td>2</td>\n",
       "      <td>1</td>\n",
       "      <td>1</td>\n",
       "      <td>0</td>\n",
       "      <td>0</td>\n",
       "      <td>0</td>\n",
       "      <td>1</td>\n",
       "      <td>2</td>\n",
       "      <td>1</td>\n",
       "    </tr>\n",
       "    <tr>\n",
       "      <th>2</th>\n",
       "      <td>896</td>\n",
       "      <td>2</td>\n",
       "      <td>1</td>\n",
       "      <td>0</td>\n",
       "      <td>1</td>\n",
       "      <td>0</td>\n",
       "      <td>2</td>\n",
       "      <td>0</td>\n",
       "      <td>2</td>\n",
       "      <td>0</td>\n",
       "      <td>...</td>\n",
       "      <td>1</td>\n",
       "      <td>2</td>\n",
       "      <td>1</td>\n",
       "      <td>1</td>\n",
       "      <td>0</td>\n",
       "      <td>1</td>\n",
       "      <td>0</td>\n",
       "      <td>1</td>\n",
       "      <td>2</td>\n",
       "      <td>2</td>\n",
       "    </tr>\n",
       "    <tr>\n",
       "      <th>3</th>\n",
       "      <td>1105</td>\n",
       "      <td>1</td>\n",
       "      <td>1</td>\n",
       "      <td>0</td>\n",
       "      <td>1</td>\n",
       "      <td>0</td>\n",
       "      <td>1</td>\n",
       "      <td>0</td>\n",
       "      <td>1</td>\n",
       "      <td>0</td>\n",
       "      <td>...</td>\n",
       "      <td>1</td>\n",
       "      <td>2</td>\n",
       "      <td>1</td>\n",
       "      <td>0</td>\n",
       "      <td>0</td>\n",
       "      <td>0</td>\n",
       "      <td>0</td>\n",
       "      <td>0</td>\n",
       "      <td>1</td>\n",
       "      <td>0</td>\n",
       "    </tr>\n",
       "    <tr>\n",
       "      <th>4</th>\n",
       "      <td>1172</td>\n",
       "      <td>0</td>\n",
       "      <td>0</td>\n",
       "      <td>0</td>\n",
       "      <td>0</td>\n",
       "      <td>0</td>\n",
       "      <td>0</td>\n",
       "      <td>0</td>\n",
       "      <td>0</td>\n",
       "      <td>0</td>\n",
       "      <td>...</td>\n",
       "      <td>1</td>\n",
       "      <td>1</td>\n",
       "      <td>1</td>\n",
       "      <td>0</td>\n",
       "      <td>0</td>\n",
       "      <td>0</td>\n",
       "      <td>0</td>\n",
       "      <td>0</td>\n",
       "      <td>0</td>\n",
       "      <td>0</td>\n",
       "    </tr>\n",
       "  </tbody>\n",
       "</table>\n",
       "<p>5 rows × 4117 columns</p>\n",
       "</div>"
      ],
      "text/plain": [
       "   0     1     2     3     4     5     6     7     8     9     ...   4107  \\\n",
       "0   821     1     0     1     1     0     1     0     1     0  ...      1   \n",
       "1   871     2     1     0     1     0     2     0     2     0  ...      1   \n",
       "2   896     2     1     0     1     0     2     0     2     0  ...      1   \n",
       "3  1105     1     1     0     1     0     1     0     1     0  ...      1   \n",
       "4  1172     0     0     0     0     0     0     0     0     0  ...      1   \n",
       "\n",
       "   4108  4109  4110  4111  4112  4113  4114  4115  4116  \n",
       "0     1     0     0     0     0     0     0     0     0  \n",
       "1     2     1     1     0     0     0     1     2     1  \n",
       "2     2     1     1     0     1     0     1     2     2  \n",
       "3     2     1     0     0     0     0     0     1     0  \n",
       "4     1     1     0     0     0     0     0     0     0  \n",
       "\n",
       "[5 rows x 4117 columns]"
      ]
     },
     "execution_count": 91,
     "metadata": {},
     "output_type": "execute_result"
    }
   ],
   "source": [
    "unnamed = pd.read_csv('../HO_5265_Imputed/Chr20HO_2step_1kbull.dosage.txt.gz',\n",
    "                                compression= 'gzip',\n",
    "                                header=None,\n",
    "                                nrows=10)\n",
    "unnamed.head()"
   ]
  },
  {
   "cell_type": "code",
   "execution_count": 149,
   "metadata": {
    "collapsed": false,
    "scrolled": true
   },
   "outputs": [
    {
     "data": {
      "text/html": [
       "<div style=\"max-height:1000px;max-width:1500px;overflow:auto;\">\n",
       "<table border=\"1\" class=\"dataframe\">\n",
       "  <thead>\n",
       "    <tr style=\"text-align: right;\">\n",
       "      <th></th>\n",
       "      <th>78827</th>\n",
       "      <th>78836</th>\n",
       "      <th>78853</th>\n",
       "      <th>79050</th>\n",
       "      <th>79160</th>\n",
       "      <th>79488</th>\n",
       "      <th>79863</th>\n",
       "      <th>79971</th>\n",
       "      <th>80134</th>\n",
       "      <th>80163</th>\n",
       "      <th>...</th>\n",
       "      <th>86954</th>\n",
       "      <th>86956</th>\n",
       "      <th>87024</th>\n",
       "      <th>87089</th>\n",
       "      <th>87104</th>\n",
       "      <th>87174</th>\n",
       "      <th>87267</th>\n",
       "      <th>87309</th>\n",
       "      <th>87335</th>\n",
       "      <th>87398</th>\n",
       "    </tr>\n",
       "  </thead>\n",
       "  <tbody>\n",
       "    <tr>\n",
       "      <th>count</th>\n",
       "      <td>333477.000000</td>\n",
       "      <td>333477.000000</td>\n",
       "      <td>333477.000000</td>\n",
       "      <td>333477.000000</td>\n",
       "      <td>333477.000000</td>\n",
       "      <td>333477.000000</td>\n",
       "      <td>333477.000000</td>\n",
       "      <td>333477.00000</td>\n",
       "      <td>333477.000000</td>\n",
       "      <td>333477.000000</td>\n",
       "      <td>...</td>\n",
       "      <td>333477.000000</td>\n",
       "      <td>333477.000000</td>\n",
       "      <td>333477.000000</td>\n",
       "      <td>333477.000000</td>\n",
       "      <td>333477.000000</td>\n",
       "      <td>333477.000000</td>\n",
       "      <td>333477.000000</td>\n",
       "      <td>333477.000000</td>\n",
       "      <td>333477.000000</td>\n",
       "      <td>333477.000000</td>\n",
       "    </tr>\n",
       "    <tr>\n",
       "      <th>mean</th>\n",
       "      <td>0.686797</td>\n",
       "      <td>0.678827</td>\n",
       "      <td>0.674686</td>\n",
       "      <td>0.669336</td>\n",
       "      <td>0.683555</td>\n",
       "      <td>0.656559</td>\n",
       "      <td>0.676265</td>\n",
       "      <td>0.67602</td>\n",
       "      <td>0.679782</td>\n",
       "      <td>0.699471</td>\n",
       "      <td>...</td>\n",
       "      <td>0.684251</td>\n",
       "      <td>0.676517</td>\n",
       "      <td>0.664303</td>\n",
       "      <td>0.696129</td>\n",
       "      <td>0.675063</td>\n",
       "      <td>0.675595</td>\n",
       "      <td>0.671411</td>\n",
       "      <td>0.666452</td>\n",
       "      <td>0.672476</td>\n",
       "      <td>0.630693</td>\n",
       "    </tr>\n",
       "    <tr>\n",
       "      <th>std</th>\n",
       "      <td>0.778347</td>\n",
       "      <td>0.763197</td>\n",
       "      <td>0.762482</td>\n",
       "      <td>0.741725</td>\n",
       "      <td>0.708328</td>\n",
       "      <td>0.730226</td>\n",
       "      <td>0.748464</td>\n",
       "      <td>0.76198</td>\n",
       "      <td>0.749661</td>\n",
       "      <td>0.827650</td>\n",
       "      <td>...</td>\n",
       "      <td>0.747047</td>\n",
       "      <td>0.813022</td>\n",
       "      <td>0.743067</td>\n",
       "      <td>0.768187</td>\n",
       "      <td>0.783876</td>\n",
       "      <td>0.770968</td>\n",
       "      <td>0.755331</td>\n",
       "      <td>0.780321</td>\n",
       "      <td>0.735164</td>\n",
       "      <td>0.725044</td>\n",
       "    </tr>\n",
       "    <tr>\n",
       "      <th>min</th>\n",
       "      <td>0.000000</td>\n",
       "      <td>0.000000</td>\n",
       "      <td>0.000000</td>\n",
       "      <td>0.000000</td>\n",
       "      <td>0.000000</td>\n",
       "      <td>0.000000</td>\n",
       "      <td>0.000000</td>\n",
       "      <td>0.00000</td>\n",
       "      <td>0.000000</td>\n",
       "      <td>0.000000</td>\n",
       "      <td>...</td>\n",
       "      <td>0.000000</td>\n",
       "      <td>0.000000</td>\n",
       "      <td>0.000000</td>\n",
       "      <td>0.000000</td>\n",
       "      <td>0.000000</td>\n",
       "      <td>0.000000</td>\n",
       "      <td>0.000000</td>\n",
       "      <td>0.000000</td>\n",
       "      <td>0.000000</td>\n",
       "      <td>0.000000</td>\n",
       "    </tr>\n",
       "    <tr>\n",
       "      <th>25%</th>\n",
       "      <td>0.000000</td>\n",
       "      <td>0.000000</td>\n",
       "      <td>0.000000</td>\n",
       "      <td>0.000000</td>\n",
       "      <td>0.000000</td>\n",
       "      <td>0.000000</td>\n",
       "      <td>0.000000</td>\n",
       "      <td>0.00000</td>\n",
       "      <td>0.000000</td>\n",
       "      <td>0.000000</td>\n",
       "      <td>...</td>\n",
       "      <td>0.000000</td>\n",
       "      <td>0.000000</td>\n",
       "      <td>0.000000</td>\n",
       "      <td>0.000000</td>\n",
       "      <td>0.000000</td>\n",
       "      <td>0.000000</td>\n",
       "      <td>0.000000</td>\n",
       "      <td>0.000000</td>\n",
       "      <td>0.000000</td>\n",
       "      <td>0.000000</td>\n",
       "    </tr>\n",
       "    <tr>\n",
       "      <th>50%</th>\n",
       "      <td>0.000000</td>\n",
       "      <td>0.000000</td>\n",
       "      <td>0.000000</td>\n",
       "      <td>1.000000</td>\n",
       "      <td>1.000000</td>\n",
       "      <td>1.000000</td>\n",
       "      <td>1.000000</td>\n",
       "      <td>0.00000</td>\n",
       "      <td>1.000000</td>\n",
       "      <td>0.000000</td>\n",
       "      <td>...</td>\n",
       "      <td>1.000000</td>\n",
       "      <td>0.000000</td>\n",
       "      <td>0.000000</td>\n",
       "      <td>1.000000</td>\n",
       "      <td>0.000000</td>\n",
       "      <td>0.000000</td>\n",
       "      <td>0.000000</td>\n",
       "      <td>0.000000</td>\n",
       "      <td>1.000000</td>\n",
       "      <td>0.000000</td>\n",
       "    </tr>\n",
       "    <tr>\n",
       "      <th>75%</th>\n",
       "      <td>1.000000</td>\n",
       "      <td>1.000000</td>\n",
       "      <td>1.000000</td>\n",
       "      <td>1.000000</td>\n",
       "      <td>1.000000</td>\n",
       "      <td>1.000000</td>\n",
       "      <td>1.000000</td>\n",
       "      <td>1.00000</td>\n",
       "      <td>1.000000</td>\n",
       "      <td>1.000000</td>\n",
       "      <td>...</td>\n",
       "      <td>1.000000</td>\n",
       "      <td>1.000000</td>\n",
       "      <td>1.000000</td>\n",
       "      <td>1.000000</td>\n",
       "      <td>1.000000</td>\n",
       "      <td>1.000000</td>\n",
       "      <td>1.000000</td>\n",
       "      <td>1.000000</td>\n",
       "      <td>1.000000</td>\n",
       "      <td>1.000000</td>\n",
       "    </tr>\n",
       "    <tr>\n",
       "      <th>max</th>\n",
       "      <td>2.000000</td>\n",
       "      <td>2.000000</td>\n",
       "      <td>2.000000</td>\n",
       "      <td>2.000000</td>\n",
       "      <td>2.000000</td>\n",
       "      <td>2.000000</td>\n",
       "      <td>2.000000</td>\n",
       "      <td>2.00000</td>\n",
       "      <td>2.000000</td>\n",
       "      <td>2.000000</td>\n",
       "      <td>...</td>\n",
       "      <td>2.000000</td>\n",
       "      <td>2.000000</td>\n",
       "      <td>2.000000</td>\n",
       "      <td>2.000000</td>\n",
       "      <td>2.000000</td>\n",
       "      <td>2.000000</td>\n",
       "      <td>2.000000</td>\n",
       "      <td>2.000000</td>\n",
       "      <td>2.000000</td>\n",
       "      <td>2.000000</td>\n",
       "    </tr>\n",
       "  </tbody>\n",
       "</table>\n",
       "<p>8 rows × 27 columns</p>\n",
       "</div>"
      ],
      "text/plain": [
       "               78827          78836          78853          79050  \\\n",
       "count  333477.000000  333477.000000  333477.000000  333477.000000   \n",
       "mean        0.686797       0.678827       0.674686       0.669336   \n",
       "std         0.778347       0.763197       0.762482       0.741725   \n",
       "min         0.000000       0.000000       0.000000       0.000000   \n",
       "25%         0.000000       0.000000       0.000000       0.000000   \n",
       "50%         0.000000       0.000000       0.000000       1.000000   \n",
       "75%         1.000000       1.000000       1.000000       1.000000   \n",
       "max         2.000000       2.000000       2.000000       2.000000   \n",
       "\n",
       "               79160          79488          79863         79971  \\\n",
       "count  333477.000000  333477.000000  333477.000000  333477.00000   \n",
       "mean        0.683555       0.656559       0.676265       0.67602   \n",
       "std         0.708328       0.730226       0.748464       0.76198   \n",
       "min         0.000000       0.000000       0.000000       0.00000   \n",
       "25%         0.000000       0.000000       0.000000       0.00000   \n",
       "50%         1.000000       1.000000       1.000000       0.00000   \n",
       "75%         1.000000       1.000000       1.000000       1.00000   \n",
       "max         2.000000       2.000000       2.000000       2.00000   \n",
       "\n",
       "               80134          80163      ...                86954  \\\n",
       "count  333477.000000  333477.000000      ...        333477.000000   \n",
       "mean        0.679782       0.699471      ...             0.684251   \n",
       "std         0.749661       0.827650      ...             0.747047   \n",
       "min         0.000000       0.000000      ...             0.000000   \n",
       "25%         0.000000       0.000000      ...             0.000000   \n",
       "50%         1.000000       0.000000      ...             1.000000   \n",
       "75%         1.000000       1.000000      ...             1.000000   \n",
       "max         2.000000       2.000000      ...             2.000000   \n",
       "\n",
       "               86956          87024          87089          87104  \\\n",
       "count  333477.000000  333477.000000  333477.000000  333477.000000   \n",
       "mean        0.676517       0.664303       0.696129       0.675063   \n",
       "std         0.813022       0.743067       0.768187       0.783876   \n",
       "min         0.000000       0.000000       0.000000       0.000000   \n",
       "25%         0.000000       0.000000       0.000000       0.000000   \n",
       "50%         0.000000       0.000000       1.000000       0.000000   \n",
       "75%         1.000000       1.000000       1.000000       1.000000   \n",
       "max         2.000000       2.000000       2.000000       2.000000   \n",
       "\n",
       "               87174          87267          87309          87335  \\\n",
       "count  333477.000000  333477.000000  333477.000000  333477.000000   \n",
       "mean        0.675595       0.671411       0.666452       0.672476   \n",
       "std         0.770968       0.755331       0.780321       0.735164   \n",
       "min         0.000000       0.000000       0.000000       0.000000   \n",
       "25%         0.000000       0.000000       0.000000       0.000000   \n",
       "50%         0.000000       0.000000       0.000000       1.000000   \n",
       "75%         1.000000       1.000000       1.000000       1.000000   \n",
       "max         2.000000       2.000000       2.000000       2.000000   \n",
       "\n",
       "               87398  \n",
       "count  333477.000000  \n",
       "mean        0.630693  \n",
       "std         0.725044  \n",
       "min         0.000000  \n",
       "25%         0.000000  \n",
       "50%         0.000000  \n",
       "75%         1.000000  \n",
       "max         2.000000  \n",
       "\n",
       "[8 rows x 27 columns]"
      ]
     },
     "execution_count": 149,
     "metadata": {},
     "output_type": "execute_result"
    }
   ],
   "source": [
    "imputed_dos_chr20.describe()"
   ]
  },
  {
   "cell_type": "code",
   "execution_count": 145,
   "metadata": {
    "collapsed": false
   },
   "outputs": [
    {
     "data": {
      "text/plain": [
       "chr_pos\n",
       "821     1\n",
       "871     1\n",
       "896     2\n",
       "1114    0\n",
       "1328    2\n",
       "1669    1\n",
       "1677    1\n",
       "1695    0\n",
       "1713    0\n",
       "1727    0\n",
       "1768    1\n",
       "1788    0\n",
       "1793    1\n",
       "1803    0\n",
       "1826    0\n",
       "1858    0\n",
       "1963    1\n",
       "3260    1\n",
       "3453    0\n",
       "3521    1\n",
       "Name: 79050, dtype: float64"
      ]
     },
     "execution_count": 145,
     "metadata": {},
     "output_type": "execute_result"
    }
   ],
   "source": [
    "chr20_head =  chr20.transpose() #already been transposed, doesn't need\n",
    "    #to be reapetead, will reload data. \n",
    "chr20_head.fillna(0,inplace=True)\n",
    "chr20_head.head()\n",
    "chr20_head['79050']"
   ]
  },
  {
   "cell_type": "code",
   "execution_count": 147,
   "metadata": {
    "collapsed": false
   },
   "outputs": [
    {
     "data": {
      "text/plain": [
       "0.060897445843788305"
      ]
     },
     "execution_count": 147,
     "metadata": {},
     "output_type": "execute_result"
    }
   ],
   "source": [
    "imputed_dos_chr20.corrwith(chr20_head,axis=1).mean()"
   ]
  },
  {
   "cell_type": "code",
   "execution_count": 115,
   "metadata": {
    "collapsed": false
   },
   "outputs": [
    {
     "data": {
      "text/html": [
       "<div style=\"max-height:1000px;max-width:1500px;overflow:auto;\">\n",
       "<table border=\"1\" class=\"dataframe\">\n",
       "  <thead>\n",
       "    <tr style=\"text-align: right;\">\n",
       "      <th></th>\n",
       "      <th>986</th>\n",
       "      <th>1051</th>\n",
       "      <th>1510</th>\n",
       "      <th>2081</th>\n",
       "      <th>18490</th>\n",
       "      <th>23048</th>\n",
       "      <th>23200</th>\n",
       "      <th>47325</th>\n",
       "      <th>78648</th>\n",
       "      <th>78757</th>\n",
       "      <th>...</th>\n",
       "      <th>86954</th>\n",
       "      <th>86956</th>\n",
       "      <th>87024</th>\n",
       "      <th>87089</th>\n",
       "      <th>87104</th>\n",
       "      <th>87174</th>\n",
       "      <th>87267</th>\n",
       "      <th>87309</th>\n",
       "      <th>87335</th>\n",
       "      <th>87398</th>\n",
       "    </tr>\n",
       "    <tr>\n",
       "      <th>chr_pos</th>\n",
       "      <th></th>\n",
       "      <th></th>\n",
       "      <th></th>\n",
       "      <th></th>\n",
       "      <th></th>\n",
       "      <th></th>\n",
       "      <th></th>\n",
       "      <th></th>\n",
       "      <th></th>\n",
       "      <th></th>\n",
       "      <th></th>\n",
       "      <th></th>\n",
       "      <th></th>\n",
       "      <th></th>\n",
       "      <th></th>\n",
       "      <th></th>\n",
       "      <th></th>\n",
       "      <th></th>\n",
       "      <th></th>\n",
       "      <th></th>\n",
       "      <th></th>\n",
       "    </tr>\n",
       "  </thead>\n",
       "  <tbody>\n",
       "    <tr>\n",
       "      <th>821</th>\n",
       "      <td>0</td>\n",
       "      <td>1</td>\n",
       "      <td>0</td>\n",
       "      <td>0</td>\n",
       "      <td>2</td>\n",
       "      <td>1</td>\n",
       "      <td>0</td>\n",
       "      <td>1</td>\n",
       "      <td>0</td>\n",
       "      <td>1</td>\n",
       "      <td>...</td>\n",
       "      <td>0</td>\n",
       "      <td>1</td>\n",
       "      <td>1</td>\n",
       "      <td>1</td>\n",
       "      <td>0</td>\n",
       "      <td>1</td>\n",
       "      <td>1</td>\n",
       "      <td>0</td>\n",
       "      <td>0</td>\n",
       "      <td>0</td>\n",
       "    </tr>\n",
       "    <tr>\n",
       "      <th>871</th>\n",
       "      <td>0</td>\n",
       "      <td>0</td>\n",
       "      <td>0</td>\n",
       "      <td>0</td>\n",
       "      <td>0</td>\n",
       "      <td>0</td>\n",
       "      <td>0</td>\n",
       "      <td>0</td>\n",
       "      <td>1</td>\n",
       "      <td>1</td>\n",
       "      <td>...</td>\n",
       "      <td>0</td>\n",
       "      <td>1</td>\n",
       "      <td>1</td>\n",
       "      <td>1</td>\n",
       "      <td>1</td>\n",
       "      <td>0</td>\n",
       "      <td>0</td>\n",
       "      <td>1</td>\n",
       "      <td>1</td>\n",
       "      <td>1</td>\n",
       "    </tr>\n",
       "    <tr>\n",
       "      <th>896</th>\n",
       "      <td>0</td>\n",
       "      <td>1</td>\n",
       "      <td>0</td>\n",
       "      <td>2</td>\n",
       "      <td>0</td>\n",
       "      <td>0</td>\n",
       "      <td>0</td>\n",
       "      <td>1</td>\n",
       "      <td>0</td>\n",
       "      <td>2</td>\n",
       "      <td>...</td>\n",
       "      <td>2</td>\n",
       "      <td>1</td>\n",
       "      <td>0</td>\n",
       "      <td>1</td>\n",
       "      <td>1</td>\n",
       "      <td>2</td>\n",
       "      <td>1</td>\n",
       "      <td>1</td>\n",
       "      <td>1</td>\n",
       "      <td>1</td>\n",
       "    </tr>\n",
       "    <tr>\n",
       "      <th>1114</th>\n",
       "      <td>0</td>\n",
       "      <td>0</td>\n",
       "      <td>0</td>\n",
       "      <td>0</td>\n",
       "      <td>0</td>\n",
       "      <td>0</td>\n",
       "      <td>0</td>\n",
       "      <td>0</td>\n",
       "      <td>0</td>\n",
       "      <td>0</td>\n",
       "      <td>...</td>\n",
       "      <td>0</td>\n",
       "      <td>0</td>\n",
       "      <td>0</td>\n",
       "      <td>0</td>\n",
       "      <td>1</td>\n",
       "      <td>0</td>\n",
       "      <td>0</td>\n",
       "      <td>0</td>\n",
       "      <td>0</td>\n",
       "      <td>0</td>\n",
       "    </tr>\n",
       "    <tr>\n",
       "      <th>1328</th>\n",
       "      <td>0</td>\n",
       "      <td>0</td>\n",
       "      <td>0</td>\n",
       "      <td>0</td>\n",
       "      <td>0</td>\n",
       "      <td>0</td>\n",
       "      <td>1</td>\n",
       "      <td>0</td>\n",
       "      <td>1</td>\n",
       "      <td>1</td>\n",
       "      <td>...</td>\n",
       "      <td>1</td>\n",
       "      <td>1</td>\n",
       "      <td>1</td>\n",
       "      <td>1</td>\n",
       "      <td>1</td>\n",
       "      <td>2</td>\n",
       "      <td>1</td>\n",
       "      <td>1</td>\n",
       "      <td>1</td>\n",
       "      <td>1</td>\n",
       "    </tr>\n",
       "  </tbody>\n",
       "</table>\n",
       "<p>5 rows × 38 columns</p>\n",
       "</div>"
      ],
      "text/plain": [
       "         986  1051  1510  2081  18490  23048  23200  47325  78648  78757  \\\n",
       "chr_pos                                                                    \n",
       "821        0     1     0     0      2      1      0      1      0      1   \n",
       "871        0     0     0     0      0      0      0      0      1      1   \n",
       "896        0     1     0     2      0      0      0      1      0      2   \n",
       "1114       0     0     0     0      0      0      0      0      0      0   \n",
       "1328       0     0     0     0      0      0      1      0      1      1   \n",
       "\n",
       "         ...    86954  86956  87024  87089  87104  87174  87267  87309  87335  \\\n",
       "chr_pos  ...                                                                    \n",
       "821      ...        0      1      1      1      0      1      1      0      0   \n",
       "871      ...        0      1      1      1      1      0      0      1      1   \n",
       "896      ...        2      1      0      1      1      2      1      1      1   \n",
       "1114     ...        0      0      0      0      1      0      0      0      0   \n",
       "1328     ...        1      1      1      1      1      2      1      1      1   \n",
       "\n",
       "         87398  \n",
       "chr_pos         \n",
       "821          0  \n",
       "871          1  \n",
       "896          1  \n",
       "1114         0  \n",
       "1328         1  \n",
       "\n",
       "[5 rows x 38 columns]"
      ]
     },
     "execution_count": 115,
     "metadata": {},
     "output_type": "execute_result"
    }
   ],
   "source": [
    "chr20_full = pd.read_csv('umc_ho_sgen_20.csv',usecols=[2] + range(29,67),\n",
    "                    index_col=0)\n",
    "chr20_full.columns= chr20_full.columns.str.lstrip('l_')\n",
    "chr20_full.fillna(0,inplace=True)\n",
    "chr20_full.head()"
   ]
  },
  {
   "cell_type": "code",
   "execution_count": 116,
   "metadata": {
    "collapsed": false
   },
   "outputs": [
    {
     "data": {
      "text/plain": [
       "87174    2\n",
       "87267    2\n",
       "87309    2\n",
       "87335    2\n",
       "87398    2\n",
       "Name: 393374, dtype: float64"
      ]
     },
     "execution_count": 116,
     "metadata": {},
     "output_type": "execute_result"
    }
   ],
   "source": [
    "chr20_full.ix[393374].tail()"
   ]
  },
  {
   "cell_type": "code",
   "execution_count": 117,
   "metadata": {
    "collapsed": false
   },
   "outputs": [
    {
     "data": {
      "text/plain": [
       "Int64Index([821, 871, 896, 1677, 1713, 1768, 1793, 1858], dtype='int64')"
      ]
     },
     "execution_count": 117,
     "metadata": {},
     "output_type": "execute_result"
    }
   ],
   "source": [
    "chr20_full.index.intersection(imputed_dos_chr20.index)"
   ]
  },
  {
   "cell_type": "code",
   "execution_count": 75,
   "metadata": {
    "collapsed": false
   },
   "outputs": [],
   "source": [
    "small=chr20_full[chr20_full.sum(axis=1)>65]"
   ]
  },
  {
   "cell_type": "code",
   "execution_count": 76,
   "metadata": {
    "collapsed": false
   },
   "outputs": [
    {
     "data": {
      "text/html": [
       "<div style=\"max-height:1000px;max-width:1500px;overflow:auto;\">\n",
       "<table border=\"1\" class=\"dataframe\">\n",
       "  <thead>\n",
       "    <tr style=\"text-align: right;\">\n",
       "      <th></th>\n",
       "      <th>79160</th>\n",
       "      <th>79488</th>\n",
       "      <th>79863</th>\n",
       "      <th>79971</th>\n",
       "      <th>80134</th>\n",
       "      <th>80163</th>\n",
       "      <th>80421</th>\n",
       "      <th>80427</th>\n",
       "      <th>80609</th>\n",
       "      <th>80636</th>\n",
       "    </tr>\n",
       "    <tr>\n",
       "      <th>chr_pos</th>\n",
       "      <th></th>\n",
       "      <th></th>\n",
       "      <th></th>\n",
       "      <th></th>\n",
       "      <th></th>\n",
       "      <th></th>\n",
       "      <th></th>\n",
       "      <th></th>\n",
       "      <th></th>\n",
       "      <th></th>\n",
       "    </tr>\n",
       "  </thead>\n",
       "  <tbody>\n",
       "    <tr>\n",
       "      <th>1790936</th>\n",
       "      <td>2</td>\n",
       "      <td>2</td>\n",
       "      <td>2</td>\n",
       "      <td>2</td>\n",
       "      <td>2</td>\n",
       "      <td>2</td>\n",
       "      <td>2</td>\n",
       "      <td>2</td>\n",
       "      <td>2</td>\n",
       "      <td>2</td>\n",
       "    </tr>\n",
       "    <tr>\n",
       "      <th>1791334</th>\n",
       "      <td>2</td>\n",
       "      <td>2</td>\n",
       "      <td>2</td>\n",
       "      <td>2</td>\n",
       "      <td>2</td>\n",
       "      <td>NaN</td>\n",
       "      <td>2</td>\n",
       "      <td>2</td>\n",
       "      <td>2</td>\n",
       "      <td>1</td>\n",
       "    </tr>\n",
       "    <tr>\n",
       "      <th>1791350</th>\n",
       "      <td>2</td>\n",
       "      <td>2</td>\n",
       "      <td>2</td>\n",
       "      <td>2</td>\n",
       "      <td>2</td>\n",
       "      <td>1</td>\n",
       "      <td>2</td>\n",
       "      <td>2</td>\n",
       "      <td>2</td>\n",
       "      <td>1</td>\n",
       "    </tr>\n",
       "    <tr>\n",
       "      <th>1808275</th>\n",
       "      <td>1</td>\n",
       "      <td>2</td>\n",
       "      <td>2</td>\n",
       "      <td>2</td>\n",
       "      <td>2</td>\n",
       "      <td>2</td>\n",
       "      <td>2</td>\n",
       "      <td>2</td>\n",
       "      <td>2</td>\n",
       "      <td>2</td>\n",
       "    </tr>\n",
       "    <tr>\n",
       "      <th>1894992</th>\n",
       "      <td>NaN</td>\n",
       "      <td>NaN</td>\n",
       "      <td>2</td>\n",
       "      <td>2</td>\n",
       "      <td>0</td>\n",
       "      <td>2</td>\n",
       "      <td>2</td>\n",
       "      <td>2</td>\n",
       "      <td>2</td>\n",
       "      <td>2</td>\n",
       "    </tr>\n",
       "    <tr>\n",
       "      <th>1896735</th>\n",
       "      <td>1</td>\n",
       "      <td>2</td>\n",
       "      <td>2</td>\n",
       "      <td>2</td>\n",
       "      <td>2</td>\n",
       "      <td>2</td>\n",
       "      <td>2</td>\n",
       "      <td>2</td>\n",
       "      <td>2</td>\n",
       "      <td>2</td>\n",
       "    </tr>\n",
       "    <tr>\n",
       "      <th>1898734</th>\n",
       "      <td>NaN</td>\n",
       "      <td>2</td>\n",
       "      <td>2</td>\n",
       "      <td>2</td>\n",
       "      <td>2</td>\n",
       "      <td>2</td>\n",
       "      <td>2</td>\n",
       "      <td>2</td>\n",
       "      <td>2</td>\n",
       "      <td>2</td>\n",
       "    </tr>\n",
       "    <tr>\n",
       "      <th>1962827</th>\n",
       "      <td>2</td>\n",
       "      <td>2</td>\n",
       "      <td>2</td>\n",
       "      <td>2</td>\n",
       "      <td>2</td>\n",
       "      <td>2</td>\n",
       "      <td>2</td>\n",
       "      <td>2</td>\n",
       "      <td>2</td>\n",
       "      <td>2</td>\n",
       "    </tr>\n",
       "    <tr>\n",
       "      <th>1990612</th>\n",
       "      <td>2</td>\n",
       "      <td>2</td>\n",
       "      <td>2</td>\n",
       "      <td>2</td>\n",
       "      <td>2</td>\n",
       "      <td>2</td>\n",
       "      <td>2</td>\n",
       "      <td>2</td>\n",
       "      <td>2</td>\n",
       "      <td>2</td>\n",
       "    </tr>\n",
       "    <tr>\n",
       "      <th>2008917</th>\n",
       "      <td>2</td>\n",
       "      <td>1</td>\n",
       "      <td>2</td>\n",
       "      <td>2</td>\n",
       "      <td>NaN</td>\n",
       "      <td>2</td>\n",
       "      <td>2</td>\n",
       "      <td>2</td>\n",
       "      <td>2</td>\n",
       "      <td>2</td>\n",
       "    </tr>\n",
       "  </tbody>\n",
       "</table>\n",
       "</div>"
      ],
      "text/plain": [
       "         79160  79488  79863  79971  80134  80163  80421  80427  80609  80636\n",
       "chr_pos                                                                      \n",
       "1790936      2      2      2      2      2      2      2      2      2      2\n",
       "1791334      2      2      2      2      2    NaN      2      2      2      1\n",
       "1791350      2      2      2      2      2      1      2      2      2      1\n",
       "1808275      1      2      2      2      2      2      2      2      2      2\n",
       "1894992    NaN    NaN      2      2      0      2      2      2      2      2\n",
       "1896735      1      2      2      2      2      2      2      2      2      2\n",
       "1898734    NaN      2      2      2      2      2      2      2      2      2\n",
       "1962827      2      2      2      2      2      2      2      2      2      2\n",
       "1990612      2      2      2      2      2      2      2      2      2      2\n",
       "2008917      2      1      2      2    NaN      2      2      2      2      2"
      ]
     },
     "execution_count": 76,
     "metadata": {},
     "output_type": "execute_result"
    }
   ],
   "source": [
    "small.iloc[100:110,15:25]"
   ]
  },
  {
   "cell_type": "code",
   "execution_count": 151,
   "metadata": {
    "collapsed": false
   },
   "outputs": [
    {
     "data": {
      "text/plain": [
       "986      2\n",
       "1051     2\n",
       "1510     2\n",
       "2081     2\n",
       "18490    2\n",
       "23048    0\n",
       "23200    2\n",
       "47325    2\n",
       "78648    2\n",
       "78757    2\n",
       "78773    2\n",
       "78827    2\n",
       "78836    2\n",
       "78853    2\n",
       "79050    2\n",
       "79160    0\n",
       "79488    0\n",
       "79863    2\n",
       "79971    2\n",
       "80134    0\n",
       "80163    2\n",
       "80421    2\n",
       "80427    2\n",
       "80609    2\n",
       "80636    2\n",
       "82366    1\n",
       "86883    2\n",
       "86953    2\n",
       "86954    2\n",
       "86956    2\n",
       "87024    2\n",
       "87089    2\n",
       "87104    2\n",
       "87174    2\n",
       "87267    2\n",
       "87309    2\n",
       "87335    2\n",
       "87398    2\n",
       "Name: 1894992, dtype: float64"
      ]
     },
     "execution_count": 151,
     "metadata": {},
     "output_type": "execute_result"
    }
   ],
   "source": [
    "chr20_full.ix[1894992]"
   ]
  },
  {
   "cell_type": "code",
   "execution_count": 150,
   "metadata": {
    "collapsed": false
   },
   "outputs": [
    {
     "data": {
      "text/plain": [
       "78827    2\n",
       "78836    2\n",
       "78853    2\n",
       "79050    2\n",
       "79160    1\n",
       "79488    2\n",
       "79863    2\n",
       "79971    2\n",
       "80134    2\n",
       "80163    2\n",
       "80421    2\n",
       "80427    2\n",
       "80609    2\n",
       "80636    2\n",
       "82366    2\n",
       "86883    2\n",
       "86953    2\n",
       "86954    2\n",
       "86956    2\n",
       "87024    2\n",
       "87089    2\n",
       "87104    2\n",
       "87174    2\n",
       "87267    2\n",
       "87309    2\n",
       "87335    2\n",
       "87398    2\n",
       "Name: 1894992, dtype: float64"
      ]
     },
     "execution_count": 150,
     "metadata": {},
     "output_type": "execute_result"
    }
   ],
   "source": [
    "imputed_dos_chr20.ix[1894992]"
   ]
  },
  {
   "cell_type": "code",
   "execution_count": 152,
   "metadata": {
    "collapsed": false
   },
   "outputs": [],
   "source": [
    "out = chr20_full.corrwith(imputed_dos_chr20,axis=1)"
   ]
  },
  {
   "cell_type": "code",
   "execution_count": 153,
   "metadata": {
    "collapsed": false
   },
   "outputs": [
    {
     "data": {
      "text/plain": [
       "count    256420.000000\n",
       "mean          0.675793\n",
       "std           0.219817\n",
       "min          -1.000000\n",
       "25%           0.573841\n",
       "50%           0.716419\n",
       "75%           0.826802\n",
       "max           1.000000\n",
       "dtype: float64"
      ]
     },
     "execution_count": 153,
     "metadata": {},
     "output_type": "execute_result"
    }
   ],
   "source": [
    "out.describe()"
   ]
  },
  {
   "cell_type": "code",
   "execution_count": 155,
   "metadata": {
    "collapsed": false
   },
   "outputs": [
    {
     "name": "stdout",
     "output_type": "stream",
     "text": [
      "0    0.201236\n",
      "1    0.099632\n",
      "2   -0.270591\n",
      "3    0.111946\n",
      "4    0.188982\n",
      "dtype: float64\n"
     ]
    },
    {
     "data": {
      "text/plain": [
       "<matplotlib.axes._subplots.AxesSubplot at 0x7f7a31e1ead0>"
      ]
     },
     "execution_count": 155,
     "metadata": {},
     "output_type": "execute_result"
    },
    {
     "data": {
      "image/png": "[encoded data removed]",
      "text/plain": [
       "<matplotlib.figure.Figure at 0x7f7a31f49cd0>"
      ]
     },
     "metadata": {},
     "output_type": "display_data"
    }
   ],
   "source": [
    "print out.head()\n",
    "out.dropna(axis=0,inplace=True)\n",
    "out.head()\n",
    "out.index= range(0,out.shape[0])\n",
    "\n",
    "sns.violinplot(out)"
   ]
  },
  {
   "cell_type": "code",
   "execution_count": 544,
   "metadata": {
    "collapsed": false
   },
   "outputs": [
    {
     "data": {
      "text/plain": [
       "count    15279.000000\n",
       "mean         0.008734\n",
       "std          0.345819\n",
       "min         -1.000000\n",
       "25%         -0.214049\n",
       "50%          0.000000\n",
       "75%          0.218218\n",
       "max          1.000000\n",
       "dtype: float64"
      ]
     },
     "execution_count": 544,
     "metadata": {},
     "output_type": "execute_result"
    }
   ],
   "source": [
    "out.describe()"
   ]
  },
  {
   "cell_type": "code",
   "execution_count": 157,
   "metadata": {
    "collapsed": false
   },
   "outputs": [],
   "source": [
    "out_peranimal = chr20_full.corrwith(imputed_dos_chr20,axis=0)"
   ]
  },
  {
   "cell_type": "code",
   "execution_count": 159,
   "metadata": {
    "collapsed": false
   },
   "outputs": [
    {
     "data": {
      "text/plain": [
       "count    27.000000\n",
       "mean      0.771570\n",
       "std       0.146456\n",
       "min       0.220767\n",
       "25%       0.793138\n",
       "50%       0.819624\n",
       "75%       0.835518\n",
       "max       0.874279\n",
       "dtype: float64"
      ]
     },
     "execution_count": 159,
     "metadata": {},
     "output_type": "execute_result"
    }
   ],
   "source": [
    "out_peranimal.describe()"
   ]
  },
  {
   "cell_type": "code",
   "execution_count": 162,
   "metadata": {
    "collapsed": false
   },
   "outputs": [
    {
     "data": {
      "text/plain": [
       "<matplotlib.axes._subplots.AxesSubplot at 0x7f7a31d06ed0>"
      ]
     },
     "execution_count": 162,
     "metadata": {},
     "output_type": "execute_result"
    },
    {
     "data": {
      "image/png": "[encoded data removed]",
      "text/plain": [
       "<matplotlib.figure.Figure at 0x7f7a31b3acd0>"
      ]
     },
     "metadata": {},
     "output_type": "display_data"
    }
   ],
   "source": [
    "out_peranimal.hist()"
   ]
  },
  {
   "cell_type": "code",
   "execution_count": 504,
   "metadata": {
    "collapsed": false
   },
   "outputs": [
    {
     "data": {
      "text/plain": [
       "['677271 umc_ho_sgen_20.csv']"
      ]
     },
     "execution_count": 504,
     "metadata": {},
     "output_type": "execute_result"
    }
   ],
   "source": [
    "!!  wc -l umc_ho_sgen_20.csv"
   ]
  },
  {
   "cell_type": "code",
   "execution_count": 545,
   "metadata": {
    "collapsed": false
   },
   "outputs": [
    {
     "data": {
      "text/plain": [
       "count    30.000000\n",
       "mean      0.243701\n",
       "std       0.084984\n",
       "min       0.070004\n",
       "25%       0.183008\n",
       "50%       0.232567\n",
       "75%       0.313814\n",
       "max       0.401649\n",
       "dtype: float64"
      ]
     },
     "execution_count": 545,
     "metadata": {},
     "output_type": "execute_result"
    }
   ],
   "source": [
    "corr_per_animal = chr20_full.corrwith(imputed_dos_chr20,axis=0)\n",
    "corr_per_animal.describe()"
   ]
  },
  {
   "cell_type": "code",
   "execution_count": null,
   "metadata": {
    "collapsed": true
   },
   "outputs": [],
   "source": []
  }
 ],
 "metadata": {
  "kernelspec": {
   "display_name": "Python 2",
   "language": "python",
   "name": "python2"
  },
  "language_info": {
   "codemirror_mode": {
    "name": "ipython",
    "version": 2
   },
   "file_extension": ".py",
   "mimetype": "text/x-python",
   "name": "python",
   "nbconvert_exporter": "python",
   "pygments_lexer": "ipython2",
   "version": "2.7.9"
  }
 },
 "nbformat": 4,
 "nbformat_minor": 0
}
